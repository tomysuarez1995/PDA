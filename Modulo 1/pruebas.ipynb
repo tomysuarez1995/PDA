{
 "cells": [
  {
   "cell_type": "code",
   "execution_count": 9,
   "id": "921df5e5",
   "metadata": {},
   "outputs": [
    {
     "name": "stdout",
     "output_type": "stream",
     "text": [
      "ubic: 0\n",
      "<class 'int'> 2\n"
     ]
    }
   ],
   "source": [
    "tup= range(2,3,4,0)\n",
    "tup\n",
    "lista = [tup, 2, 3]\n",
    "a= int(input(\"ubic: \"))\n",
    "print (type(tup[a]), tup[a])"
   ]
  },
  {
   "cell_type": "code",
   "execution_count": 35,
   "id": "57e48d0b",
   "metadata": {},
   "outputs": [
    {
     "data": {
      "text/plain": [
       "[0, 10, 20, 30, 40, 50, 60, 70, 80, 90]"
      ]
     },
     "execution_count": 35,
     "metadata": {},
     "output_type": "execute_result"
    }
   ],
   "source": [
    " [a for a in range(0,100) if a%10==0] #simplemente es sintaxis, para borrar una variable anterior se usa \"del xxxxx\"\n",
    "    \n",
    "\n"
   ]
  },
  {
   "cell_type": "code",
   "execution_count": null,
   "id": "3feb1388",
   "metadata": {},
   "outputs": [],
   "source": []
  }
 ],
 "metadata": {
  "kernelspec": {
   "display_name": "Python 3 (ipykernel)",
   "language": "python",
   "name": "python3"
  },
  "language_info": {
   "codemirror_mode": {
    "name": "ipython",
    "version": 3
   },
   "file_extension": ".py",
   "mimetype": "text/x-python",
   "name": "python",
   "nbconvert_exporter": "python",
   "pygments_lexer": "ipython3",
   "version": "3.9.7"
  }
 },
 "nbformat": 4,
 "nbformat_minor": 5
}
