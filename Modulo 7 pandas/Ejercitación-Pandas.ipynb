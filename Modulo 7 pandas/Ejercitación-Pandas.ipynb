{
 "cells": [
  {
   "cell_type": "markdown",
   "id": "cf6541be",
   "metadata": {},
   "source": [
    "# <center> <span style='color:#3c3b5f'>Ejercitación módulo Pandas</span></center>\n",
    "\n",
    "Módulo Pandas - Parte práctica\n",
    "\n",
    "**Profesor Adjunto:** Mag. Bioing. Baldezzari Lucas\n",
    "\n",
    "<p style='text-align: left;'> V2022 </p>\n",
    "\n",
    "<hr style=\"border:1px solid gray\"> </hr>"
   ]
  },
  {
   "cell_type": "markdown",
   "id": "4ff1087d",
   "metadata": {},
   "source": [
    "## <span style='color:#55aa74'>1. Primeros pasos con Pandas</span>\n",
    "\n",
    "En este ejercicio trabajará con datos estimados de personas en condición de calle en 2018 en algunos estados de Estados Unidos.\n",
    "\n",
    "- La columna *individuos* representa personas que viven solas.\n",
    "- La columna *miembrosFamilia* es el número de personas en condición de calle que poseen hijos/as.\n",
    "- La columna *poblacionTotal* representa el total de personas que habitan en un estado."
   ]
  },
  {
   "cell_type": "markdown",
   "id": "c09ec02a",
   "metadata": {},
   "source": [
    "#### 1.1 Cargando un DataFrame y chequeando datos\n",
    "\n",
    "- A) Usted dispone de un archivo llamado *sinhogares.csv* dentro de la carpeta */datasets*. Cargue el archivo en un dataframe llamado *sinhogares*\n",
    "- B) Utilice los siguientes métodos para conocer un poco más los datos cargados.\n",
    "    - .head()\n",
    "    - .info()\n",
    "    - .describe()\n",
    "    - .shape\n",
    "- C) En base a lo anterior, ¿cuantas observaciones/filas posee el data set?"
   ]
  },
  {
   "cell_type": "code",
   "execution_count": 1,
   "id": "5d45e899",
   "metadata": {},
   "outputs": [
    {
     "data": {
      "text/plain": [
       "(51, 6)"
      ]
     },
     "execution_count": 1,
     "metadata": {},
     "output_type": "execute_result"
    }
   ],
   "source": [
    "## TODO 1.1\n",
    "import pandas as pd\n",
    "\n",
    "sh = pd.read_csv(\"datasets/sinhogares.csv\")\n",
    "sh.shape"
   ]
  },
  {
   "cell_type": "markdown",
   "id": "28b43b26",
   "metadata": {},
   "source": [
    "#### 1.2 Valores, columnas e índices del dataframe\n",
    "\n",
    "Para entender mejor al dataframe investigue los atributos.\n",
    "\n",
    "- .values\n",
    "- .columns\n",
    "- .index\n",
    "\n",
    "¿Cuales son las columnas que forman el DataFrame? ¿Cómo son los índices (numéricos o tienen nombre)?"
   ]
  },
  {
   "cell_type": "code",
   "execution_count": 2,
   "id": "819a28c2",
   "metadata": {},
   "outputs": [],
   "source": [
    "## TODO 1.2"
   ]
  },
  {
   "cell_type": "markdown",
   "id": "a5c1333a",
   "metadata": {},
   "source": [
    "#### 1.3 Ordenando el dataframe\n",
    "\n",
    "- A) Ordene los datos dentro del dataframe *sinhogares* por la columna *individuos* y guardela en un archivo llamado *sinhogares_Ind*. Imprima los primeros 5 datos de *sinhogares_Ind*.\n",
    "- B) En un dataframe llamado *sinhogares_Fam* guarde el dataframe original pero ordenado por la columna *miembrosFamilia* de mayor a menor. Imprima los primeros 5 datos de *sinhogares_Fam*.\n",
    "- C) Ordene los datos del dataframe primero por *region* (de forma ascendente) y luego por *miembrosFamilia* (de manera descendente). Guarde los datos en un dataframe e imprima los primeros cinco valores."
   ]
  },
  {
   "cell_type": "code",
   "execution_count": 3,
   "id": "06797335",
   "metadata": {},
   "outputs": [],
   "source": [
    "## TODO 1.3\n",
    "sinhogares_Ind = ___\n",
    "sinhogares_Fam = ___\n",
    "sinhogares_reg_fam = ___"
   ]
  },
  {
   "cell_type": "markdown",
   "id": "2c6450d6",
   "metadata": {},
   "source": [
    "#### 1.4 Obteniendo subsets a partir de columnas\n",
    "\n",
    "Recuerde que podemos obtener trozos de nuestro dataframe haciendo \n",
    "\n",
    "```python\n",
    "subset1 = dataframe[\"columnaInteres\"]\n",
    "subset1 = dataframe[[\"columnaInteres\",\"otraColumna\"]]\n",
    "```\n",
    "\n",
    "- A partir del dataframe *sinhogares* cree un dataframe llamado *indiv_estados* que este formado por las columnas *individuos* y *poblacionTotal*. Imprima el head del dataframe."
   ]
  },
  {
   "cell_type": "code",
   "execution_count": 4,
   "id": "47854dd7",
   "metadata": {},
   "outputs": [],
   "source": [
    "## TODO 1.4\n",
    "indiv_estados = ___"
   ]
  },
  {
   "cell_type": "markdown",
   "id": "dd8dfa9e",
   "metadata": {},
   "source": [
    "#### 1.5 Obteniendo subsets a partir de filas aplicando filtros\n",
    "\n",
    "- A) Cree un dataframe que contenga los datos de las personas en condición de calle que superen los 10mil individuos por estado.\n",
    "- B) Cree un dataframe que contenga los datos de las personas en condición de calle menores a los mil individuos y que correspondan a la región \"Pacific\". Imprima el dataframe creado."
   ]
  },
  {
   "cell_type": "code",
   "execution_count": 5,
   "id": "fb675689",
   "metadata": {},
   "outputs": [],
   "source": [
    "## TODO 1.5    "
   ]
  },
  {
   "cell_type": "markdown",
   "id": "c0f89e27",
   "metadata": {},
   "source": [
    "#### 1.6 Obteniendo subsets a partir de datos categóricos\n",
    "\n",
    "Utilizando *.isin()* se pide,\n",
    "\n",
    "- A) Cree un subset que contenga los datos para las regiones *South Atlantic* y *Mid-Atlantic*. Imprima el subset.\n",
    "- B) Cree un subset que contenga los datos para los estados *California*, *Arizona*, *Nevada* y *Utah*."
   ]
  },
  {
   "cell_type": "code",
   "execution_count": 6,
   "id": "0c4a8dd1",
   "metadata": {},
   "outputs": [],
   "source": [
    "## TODO 1.6"
   ]
  },
  {
   "cell_type": "markdown",
   "id": "890653dd",
   "metadata": {},
   "source": [
    "## <span style='color:#55aa74'>2. Un poco de estadística</span>\n",
    "\n",
    "Para este ejercicio se trabajará con los datos de venta de la cadena de supermercados *Walmart* que van desde enero de 2010 a diciembre de 2012.\n",
    "\n",
    "Las columnas dentro del set de datos representa:\n",
    "\n",
    "- Store: Numero de supermercado\n",
    "- Type: Tipo de tienda.\n",
    "- Department: Departamento donde se realizó la venta.\n",
    "- Date: Semana de venta\n",
    "- weekly_sales: Ventas semanales\n",
    "- is_holiday: Indica si esa semana hubieron días festivos.\n",
    "- Temperature: Temperatura del día de las ventas.\n",
    "- Fuel_Price: Costo del combustible en la región\n",
    "- Unemployment: Representa el porcentaje de la fuerza laboral sin trabajo."
   ]
  },
  {
   "cell_type": "markdown",
   "id": "11628420",
   "metadata": {},
   "source": [
    "Cargamos el archivo *walmart.csv* (se encuentra dentro del directorio */datastes/*) en un dataframe llamado *walmart* y vemos su encabezado"
   ]
  },
  {
   "cell_type": "code",
   "execution_count": 7,
   "id": "3040848f",
   "metadata": {},
   "outputs": [
    {
     "data": {
      "text/html": [
       "<div>\n",
       "<style scoped>\n",
       "    .dataframe tbody tr th:only-of-type {\n",
       "        vertical-align: middle;\n",
       "    }\n",
       "\n",
       "    .dataframe tbody tr th {\n",
       "        vertical-align: top;\n",
       "    }\n",
       "\n",
       "    .dataframe thead th {\n",
       "        text-align: right;\n",
       "    }\n",
       "</style>\n",
       "<table border=\"1\" class=\"dataframe\">\n",
       "  <thead>\n",
       "    <tr style=\"text-align: right;\">\n",
       "      <th></th>\n",
       "      <th>store</th>\n",
       "      <th>type</th>\n",
       "      <th>department</th>\n",
       "      <th>date</th>\n",
       "      <th>weekly_sales</th>\n",
       "      <th>is_holiday</th>\n",
       "      <th>temperature</th>\n",
       "      <th>fuel_price</th>\n",
       "      <th>unemployment</th>\n",
       "    </tr>\n",
       "  </thead>\n",
       "  <tbody>\n",
       "    <tr>\n",
       "      <th>0</th>\n",
       "      <td>1</td>\n",
       "      <td>A</td>\n",
       "      <td>1</td>\n",
       "      <td>2/5/2010</td>\n",
       "      <td>24924.50</td>\n",
       "      <td>False</td>\n",
       "      <td>5.727778</td>\n",
       "      <td>0.679451</td>\n",
       "      <td>8.106</td>\n",
       "    </tr>\n",
       "    <tr>\n",
       "      <th>1</th>\n",
       "      <td>1</td>\n",
       "      <td>A</td>\n",
       "      <td>1</td>\n",
       "      <td>3/5/2010</td>\n",
       "      <td>21827.90</td>\n",
       "      <td>False</td>\n",
       "      <td>8.055556</td>\n",
       "      <td>0.693452</td>\n",
       "      <td>8.106</td>\n",
       "    </tr>\n",
       "    <tr>\n",
       "      <th>2</th>\n",
       "      <td>1</td>\n",
       "      <td>A</td>\n",
       "      <td>1</td>\n",
       "      <td>4/2/2010</td>\n",
       "      <td>57258.43</td>\n",
       "      <td>False</td>\n",
       "      <td>16.816667</td>\n",
       "      <td>0.718284</td>\n",
       "      <td>7.808</td>\n",
       "    </tr>\n",
       "    <tr>\n",
       "      <th>3</th>\n",
       "      <td>1</td>\n",
       "      <td>A</td>\n",
       "      <td>1</td>\n",
       "      <td>5/7/2010</td>\n",
       "      <td>17413.94</td>\n",
       "      <td>False</td>\n",
       "      <td>22.527778</td>\n",
       "      <td>0.748928</td>\n",
       "      <td>7.808</td>\n",
       "    </tr>\n",
       "    <tr>\n",
       "      <th>4</th>\n",
       "      <td>1</td>\n",
       "      <td>A</td>\n",
       "      <td>1</td>\n",
       "      <td>6/4/2010</td>\n",
       "      <td>17558.09</td>\n",
       "      <td>False</td>\n",
       "      <td>27.050000</td>\n",
       "      <td>0.714586</td>\n",
       "      <td>7.808</td>\n",
       "    </tr>\n",
       "  </tbody>\n",
       "</table>\n",
       "</div>"
      ],
      "text/plain": [
       "   store type  department      date  weekly_sales  is_holiday  temperature  \\\n",
       "0      1    A           1  2/5/2010      24924.50       False     5.727778   \n",
       "1      1    A           1  3/5/2010      21827.90       False     8.055556   \n",
       "2      1    A           1  4/2/2010      57258.43       False    16.816667   \n",
       "3      1    A           1  5/7/2010      17413.94       False    22.527778   \n",
       "4      1    A           1  6/4/2010      17558.09       False    27.050000   \n",
       "\n",
       "   fuel_price  unemployment  \n",
       "0    0.679451         8.106  \n",
       "1    0.693452         8.106  \n",
       "2    0.718284         7.808  \n",
       "3    0.748928         7.808  \n",
       "4    0.714586         7.808  "
      ]
     },
     "execution_count": 7,
     "metadata": {},
     "output_type": "execute_result"
    }
   ],
   "source": [
    "walmart = pd.read_csv(\"datasets/walmart.csv\")\n",
    "walmart.head()"
   ]
  },
  {
   "cell_type": "markdown",
   "id": "0f97b0be",
   "metadata": {},
   "source": [
    "#### 2.1 Medias y medianas\n",
    "\n",
    "- A) ¿Cuál es el promedio de ventas semanales totales? ¿Cuál es la mediana?\n",
    "- B) Obtenga el promedio de ventas semanales para cada año del data set. Idem para la mediana.\n",
    "- C) ¿Cuando se hizo la última venta según este data set? ¿Y cuando fue la primera?"
   ]
  },
  {
   "cell_type": "code",
   "execution_count": 8,
   "id": "67b46b3e",
   "metadata": {},
   "outputs": [],
   "source": [
    "## TODO 2.1"
   ]
  },
  {
   "cell_type": "markdown",
   "id": "6c877ef1",
   "metadata": {},
   "source": [
    "#### 2.2 Rango intercuartil\n",
    "\n",
    "- Defina una función llamada *iqr(columna)* que devuelva el rango intercuartil (IQR). Esta función recibirá una *columna* de un dataframe con valores numéricos a partir de los cuales obtendrá los cuartiles $Q_1$ y $Q_3$ para devolver el $IQR = Q_3-Q_1$.\n",
    "- Luego con la función *.agg()* aplique las funciones *iqr()* y *np.median()* a las columnas *temperature*, *fuel_price* y *unemployment* del set de datos. Imprima el dataframe obtenido."
   ]
  },
  {
   "cell_type": "code",
   "execution_count": 9,
   "id": "5a558a91",
   "metadata": {},
   "outputs": [
    {
     "name": "stdout",
     "output_type": "stream",
     "text": [
      "walmart[['columnas']].agg([lista de funciones])\n"
     ]
    }
   ],
   "source": [
    "## TODO 2.2\n",
    "def irq(columna):\n",
    "    pass\n",
    "\n",
    "print(\"walmart[['columnas']].agg([lista de funciones])\") ##idea de implementación"
   ]
  },
  {
   "cell_type": "markdown",
   "id": "1309a7cf",
   "metadata": {},
   "source": [
    "#### 2.3 Eliminando duplicados y contando\n",
    "\n",
    "Utilizando *.drop_duplicates()* se pide:\n",
    "\n",
    "- A) Elimine los datos duplicados a partir de las columnas *store* y *type*. Almacene el dataframe en *tiposTiendas*.\n",
    "- B) Elimine los datos duplicados a partir de las columnas *store* y *departament*. Almacene el dataframe en *deptsTiendas*.\n",
    "- C) Genere un subset llamado *fechaVacaciones* a partir de filtrar los datos en donde los valores de la columna *is_holiday* son True y remueva los duplicados a partir de la columna *date*.\n",
    "\n",
    "Imprima los dataframe creados."
   ]
  },
  {
   "cell_type": "code",
   "execution_count": 10,
   "id": "5689a20c",
   "metadata": {},
   "outputs": [],
   "source": [
    "## TODO 2.3\n",
    "\n",
    "tiposTiendas = ___\n",
    "deptsTiendas = ___\n",
    "fechaVacaciones = ___\n"
   ]
  },
  {
   "cell_type": "markdown",
   "id": "01a1200a",
   "metadata": {},
   "source": [
    "#### 2.4 Contando variables categóricas\n",
    "\n",
    "A partir de los dataframe *tiposTiendas* y *deptsTiendas* se pide,\n",
    "\n",
    "- A) Cuente cuántos tipos de tiendas hay dentro de *tiposTiendas*. También imprima las proporciones (usando *normalize = True*)\n",
    "- B) Cuente cuántos departamentos diferentes tenemos en *deptsTiendas* y ordene los datos. También imprima las proporciones ordeandas.\n"
   ]
  },
  {
   "cell_type": "code",
   "execution_count": 11,
   "id": "4902118c",
   "metadata": {},
   "outputs": [],
   "source": [
    "## TODO 2.4"
   ]
  },
  {
   "cell_type": "markdown",
   "id": "c8f3e7fc",
   "metadata": {},
   "source": [
    "#### 2.5 Proporciones de ventas por cada tipo de tienda\n",
    "\n",
    "Calcule las proporciones de ventas semanales realizadas por cada tienda. Tenga en cuenta que las proporciones son el resultado de la venta de un tipo de tienda dividida las ventas totales.\n",
    "\n",
    "Utilizando las herramientas vistas hasta ahora cuente cuantos tipos de tiendas hay en el set de datos. Luego utilice estos tipos para *filtrar* el dataset por cada tipo de tienda y use la función *.sum()* para sumar las ventas semanales del tipo particular de tienda selecionado. Finalmente divida cada una de las ventas semanales por las ventas totales.\n",
    "\n",
    "Guarde las proporciones en una lista.\n",
    "\n",
    "Ejemplo para tiendas del tipo A\n",
    "\n",
    "```python\n",
    "ventasA = walmart[walmart[\"type\"] == \"A\"][\"weekly_sales\"].sum()/totales\n",
    "```\n",
    "\n",
    "Donde *totales* es la suma de todas las ventas semanales del set de datos."
   ]
  },
  {
   "cell_type": "code",
   "execution_count": 12,
   "id": "92673db1",
   "metadata": {},
   "outputs": [],
   "source": [
    "## TODO 2.5"
   ]
  },
  {
   "cell_type": "markdown",
   "id": "99c5c111",
   "metadata": {},
   "source": [
    "### <span style='color:#381c88'>Función *.groupby()*</span>\n",
    "\n",
    "#### 2.6 Haciendo cálculos con *groupby()*\n",
    "\n",
    "Implemente el punto 2.5 pero usando la función *groupby()*.\n",
    "\n",
    "> Much easier! Isn't it?"
   ]
  },
  {
   "cell_type": "code",
   "execution_count": 13,
   "id": "01d3c2ed",
   "metadata": {},
   "outputs": [],
   "source": [
    "## TODO 2.6"
   ]
  },
  {
   "cell_type": "markdown",
   "id": "8e2a7a7f",
   "metadata": {},
   "source": [
    "#### 2.7 Datos a partir de agrupamiento múltiple\n",
    "\n",
    "- A) Obtenga los mínimos, máximos, las medias (usando np.mean) y las medianas (usando np.median) de las ventas semanales para cada tipo de tienda.\n",
    "- B) Obtenga los mínimos, máximos, las medias (usando np.mean) y las medianas (usando np.median) de las columnas *unemployment* y *fuel_price* para cada tipo de tienda.\n",
    "\n",
    "**Hint:** Utilice *.groupby()* para agrupar datos y *.agg()* para aplicar las funciones."
   ]
  },
  {
   "cell_type": "code",
   "execution_count": 14,
   "id": "623ba854",
   "metadata": {},
   "outputs": [],
   "source": [
    "## TODO 2.7"
   ]
  },
  {
   "cell_type": "markdown",
   "id": "020ed0ca",
   "metadata": {},
   "source": [
    "### <span style='color:#381c88'>Tablas dinámicas</span>\n",
    "\n",
    "En esta parte utilizaremos la función *.pivot_table()*.\n",
    "\n",
    "#### 2.8 Datos a partir de agrupamiento múltiple\n",
    "\n",
    "- A) Obtenga la media y la mediana (con funciones de Numpy) de las ventas semanales por cada tipo de tienda usando *.pivot_table()* y almacene la tabla en *mediasYmedianas*.\n",
    "- B) Use *.pivot_table()* para crear una tabla donde muestre las ventas promedios por cada tipo de tienda, donde las columnas correspondan a *is_holiday*. Guarde esta tabla en *mediasXVacaciones*."
   ]
  },
  {
   "cell_type": "code",
   "execution_count": 15,
   "id": "5a8bb13d",
   "metadata": {},
   "outputs": [],
   "source": [
    "## TODO 2.8\n",
    "\n",
    "mediasYmedianas = ___\n",
    "mediasXVacaciones = ___"
   ]
  },
  {
   "cell_type": "markdown",
   "id": "24fb932e",
   "metadata": {},
   "source": [
    "## <span style='color:#55aa74'>3. Temperatura a lo largo de los años</span>\n",
    "\n",
    "En esta parte trabajará con un set de datos que contiene valores de temperatura para diferentes países a lo largo de varios años. Usted cuenta con un archivo llamado *temperatures.csv* dentro de la carpeta *datasets/*."
   ]
  },
  {
   "cell_type": "code",
   "execution_count": 16,
   "id": "09f376ee",
   "metadata": {},
   "outputs": [],
   "source": [
    "t = pd.read_csv(\"datasets/temperatures.csv\")"
   ]
  },
  {
   "cell_type": "markdown",
   "id": "61c4784b",
   "metadata": {},
   "source": [
    "#### 3.1 Datos básicos\n",
    "\n",
    "Cargue el archivo en un dataframe llamado *temperaturas* y encuentre.\n",
    "\n",
    "1. Los 5 países con mayores temperaturas promedios en los últimos 5 años.\n",
    "2. Las 10 ciudades con mayores temperaturas promedios en los últimos 5 años.\n",
    "3. El país que haya sufrido el mayor aumento de temperatura desde el primer registro hasta el último registro dentro del set de datos. ¿Cuantos grados en promedio ha aumentado o disminuído la temperatura este país?"
   ]
  },
  {
   "cell_type": "code",
   "execution_count": 17,
   "id": "8d7bcb6e",
   "metadata": {},
   "outputs": [],
   "source": [
    "## TODO 3.1"
   ]
  },
  {
   "cell_type": "markdown",
   "id": "e35df6ae",
   "metadata": {},
   "source": [
    "#### 3.2 Subdatos con .loc[ ]\n",
    "\n",
    "1. Crear una lista llamada *ciudades* que contengan las ciudades de \"Montreal\" y \"Toronto\".\n",
    "2. Utilizando corchetes cree un subset de datos filtrando con la lista creada anteriormente. Nota: Puede ayudarse con *isin()*.\n",
    "3. Utilice *.set_index()* para crear un nuevo dataframe llamado *tempCity* con los índices a partir de las ciudades. Luego use la función .loc[] para crear un subset de datos que contenga las ciudades en la lista *ciudades*\n",
    "\n",
    "¿Cual de las formas de crear subsets les parece más facil y/o intuitiva?"
   ]
  },
  {
   "cell_type": "code",
   "execution_count": 18,
   "id": "8a652678",
   "metadata": {},
   "outputs": [],
   "source": [
    "## TODO 3.2"
   ]
  },
  {
   "cell_type": "markdown",
   "id": "b0eca49c",
   "metadata": {},
   "source": [
    "#### 3.3 Trabajando con índices multinivel\n",
    "\n",
    "A partir del dataframe *temperaturas* setee los índices *country* y *city* y asigne el dataframe a *tempCC*. Luego cree una lista de tuplas de tal manera de tener los pares país/ciudad de Brazil/Rio de Janeiro, Canada/Toronto y China/Wuhan. Finalmente, imprima un subset de datos de *tempCC* donde solo se muestren los datos correspondientes a los pares mencionados anteriormente. Utilice .loc[]."
   ]
  },
  {
   "cell_type": "code",
   "execution_count": 19,
   "id": "352d1544",
   "metadata": {},
   "outputs": [],
   "source": [
    "## TODO 3.3\n",
    "\n",
    "tempCC = ___"
   ]
  },
  {
   "cell_type": "markdown",
   "id": "40289d02",
   "metadata": {},
   "source": [
    "#### 3.4 Slicing\n",
    "\n",
    "Ordene el dataframe *tempCC* usando *.sort_index()* luego,\n",
    "\n",
    "1. Imprima un slice contemplando los países de Brasil hasta Dominican Republic.\n",
    "2. Imprimia un slice contemplando las ciudades de Belo Horizonte hasta Bogotá.\n",
    "3. Cree un dataframe llamado *tempsDates* el cual reciba el dataframe *temperaturas* pero con la columna *date* seteada como índice. Ordene *tempsDates* por índice. Luego imprima un slice que contemple las fechas 2010-07 y 2011-01."
   ]
  },
  {
   "cell_type": "code",
   "execution_count": 20,
   "id": "bb1e23ac",
   "metadata": {},
   "outputs": [],
   "source": [
    "## TODO 3.4"
   ]
  },
  {
   "cell_type": "markdown",
   "id": "bc35b5fa",
   "metadata": {},
   "source": [
    "#### 3.5 Tabla dinámica por ciudad y año\n",
    "\n",
    "Ahora creará una tabla dinámica para obtener información de la variación de temperatura por cada ciudad dentro del set de datos.\n",
    "\n",
    "1. En primer lugar, agregue una columna llamada *year* al set *temperaturas* que contenga los años a partir de la columna *date* del dataframe. Es posible obtener los días, los mesos o los años de un dato del tipo *fecha* haciendo\n",
    "\n",
    "```python\n",
    "dataframe[\"columa\"].dt.component\n",
    "```\n",
    "\n",
    "Así por ejemplo, tomando el dataframe *temperaturas* podríamos agregar una columna *year* haciendo,\n",
    "\n",
    "```python\n",
    "temperaturas[\"year\"] = temperaturas[\"date\"].dt.year\n",
    "```\n",
    "\n",
    "**IMPORTANTE**: Si al intentar hacer lo anterior usted recibe un error del tipo \n",
    "\n",
    "```python\n",
    "AttributeError: Can only use .dt accessor with datetimelike values\n",
    "```\n",
    "\n",
    "Debe ejecutar la siguiente linea de código para formatear las fechas.\n",
    "\n",
    "```python\n",
    "t['date'] = pd.to_datetime(t.date, format='%Y-%m-%d')\n",
    "```\n",
    "\n",
    "2. Cree una tabla pivote que tome los valores de *avg_temp_c*, donde los índices estén formados por *country* y *city* (en ese orden) y las columnas contengan los años de la columna *year* agregada en el paso anterior. Guarde la tabla en *tablaTemps*. Imprima *tablaTemps*."
   ]
  },
  {
   "cell_type": "code",
   "execution_count": 21,
   "id": "3ce243e9",
   "metadata": {},
   "outputs": [],
   "source": [
    "## TODO 3.5\n",
    "tablaTemps = ___"
   ]
  },
  {
   "cell_type": "markdown",
   "id": "37841646",
   "metadata": {},
   "source": [
    "#### 3.6 Variación de temperatura para la ciudad de Wuhan, China.\n",
    "\n",
    "A continuación veremos la variación de temperatura promedio desde el año 2000 al 2013 para la ciudad de Wuhan. Una forma de hacer esto es siguiendo estos pasos.\n",
    "\n",
    "- Utiliando el dataframe *temperaturas* con la columna *year* agregada, primeramente filtre con [] los datos correspondientes a *China*. Luego cree una *pivote_table()* donde sus valores estén formados por los datos de las columnas *avg_temp_c*, los índices correspondan a la columna *city* y las columnas correspondan a *year*.\n",
    "- Imprima la tabla. Si todo esta OK, Lla misma debe contener las temperaturas promedios de las ciudades de China que figuren en el dataset desde el año 2000 al año 2013. Guarde esta tabla en *tempsChinaCities*.\n",
    "- Utilizando *tempsChinaCities.loc[]* obtenga las variaciones de temperatura correspondientes a la ciudad de *Wuhan*. Guarde estos datos en *WuhanTemps*.\n",
    "- Finalmente, descomente las lineas para graficar."
   ]
  },
  {
   "cell_type": "code",
   "execution_count": 22,
   "id": "ccdd1b6d",
   "metadata": {},
   "outputs": [],
   "source": [
    "## TODO 3.6\n",
    "tempsChinaCities = ___\n",
    "WuhanTemps = ___"
   ]
  },
  {
   "cell_type": "code",
   "execution_count": 23,
   "id": "ba649f6b",
   "metadata": {},
   "outputs": [],
   "source": [
    "## # Descomentar para graficar\n",
    "# import matplotlib.pyplot as plt\n",
    "\n",
    "# plt.plot(WuhanTemps, label = \"Wuhan\")\n",
    "# plt.xlabel(\"Año\")\n",
    "# plt.ylabel(\"Temperatura [°C]\")\n",
    "# plt.title(\"Temperaturas promedios desde 2000 a 2013\")\n",
    "# plt.legend()\n",
    "# plt.show()"
   ]
  },
  {
   "cell_type": "markdown",
   "id": "de5b0f13",
   "metadata": {},
   "source": [
    "## <span style='color:#55aa74'>4. Graficación básica</span>\n",
    "\n",
    "En este ejercicio se trabajará con un set de datos que contiene las ventas semanales de *paltas* en tiendas de EEUU. Estas ventas están separadas por año, por tipo (convencional u orgnánico) y por tamaño (small, large, extra_large).\n",
    "\n",
    "Cargue los datos de *paltas.csv* que se encuentra dentro de *datasets/*. Imvestigue el dataframe con los métodos vistos."
   ]
  },
  {
   "cell_type": "markdown",
   "id": "0671c50f",
   "metadata": {},
   "source": [
    "#### 4.1 Paltas populares\n",
    "\n",
    "- Obtenga el número total de paltas vendidas por cada tamaño (*size*). Puede usar *.groupby()* para agrupar por tamaño y luego computar las ventas semanales totales. Guarde estos datos en *ventasXSize*.\n",
    "- Utilice *ventasXSize* para realizar un gráfico de barras."
   ]
  },
  {
   "cell_type": "code",
   "execution_count": 24,
   "id": "3c266db4",
   "metadata": {},
   "outputs": [],
   "source": [
    "## TODO 4.1 \n",
    "ventasXSize = ___\n",
    "\n",
    "## gráfica\n",
    "# ventasXSize.plot(kind = \"bar\")\n",
    "# plt.show()"
   ]
  },
  {
   "cell_type": "markdown",
   "id": "7eed0a95",
   "metadata": {},
   "source": [
    "#### 4.2 Ventas a lo largo del tiempo\n",
    "\n",
    "- Compute el número de paltas vendidas por fecha. Guarde los datos en *ventasXFecha*.\n",
    "- Realice un gráfico de *línea* a partir de *ventasXFecha*."
   ]
  },
  {
   "cell_type": "code",
   "execution_count": 25,
   "id": "2f4bdef6",
   "metadata": {},
   "outputs": [],
   "source": [
    "## TODO 4.2\n",
    "\n",
    "ventasXFecha = ___\n",
    "\n",
    "##gráfica\n",
    "pass"
   ]
  },
  {
   "cell_type": "markdown",
   "id": "6a88d68d",
   "metadata": {},
   "source": [
    "#### 4.3 Ventas vs Precio\n",
    "\n",
    "Realice un gráfico del tipo *scatter* en donde el eje x tenga los datos de la columna *nb_sold* y el eje y tenga los datos de la columna *avg_price*. Agregue un título al gráfico."
   ]
  },
  {
   "cell_type": "markdown",
   "id": "7499c447",
   "metadata": {},
   "source": [
    "#### 4.3 Convencional vs Orgánico\n",
    "\n",
    "Realice un histograma donde contabilicen las ventas semanales de paltas orgánicas y otro en donde contabilicen las ventas semanales de paltas convenionales. Coloque ambos histogramas en el mismo gráfico."
   ]
  },
  {
   "cell_type": "markdown",
   "id": "9af2b60f",
   "metadata": {},
   "source": [
    "## <span style='color:#55aa74'>5. Analizando jugadores FIFA 2021 (obligatorio)</span>\n",
    "\n",
    "Para este ejercicio se utilizará el set de datos del juego FIFA 2021. El mismo contiene información acerca de los jugadores de fútbol de diferentes ligas y selecciones a nivel mundial.\n",
    "\n",
    "El archivo con el cual trabajará se llama  *fifa2021.csv*.\n",
    "\n",
    "Antes de empezar, realizaremos una limpieza de los datos."
   ]
  },
  {
   "cell_type": "code",
   "execution_count": 2,
   "id": "818eb333",
   "metadata": {},
   "outputs": [],
   "source": [
    "import pandas as pd\n",
    "fifa21 = pd.read_csv(\"datasets/fifa2021.csv\")\n"
   ]
  },
  {
   "cell_type": "code",
   "execution_count": 27,
   "id": "50d13705",
   "metadata": {},
   "outputs": [
    {
     "name": "stdout",
     "output_type": "stream",
     "text": [
      "(18944, 82)\n"
     ]
    }
   ],
   "source": [
    "## Cantidad de datos\n",
    "print(fifa21.shape)"
   ]
  },
  {
   "cell_type": "code",
   "execution_count": 28,
   "id": "65562c8f",
   "metadata": {},
   "outputs": [
    {
     "data": {
      "text/plain": [
       "(18944, 75)"
      ]
     },
     "execution_count": 28,
     "metadata": {},
     "output_type": "execute_result"
    }
   ],
   "source": [
    "## Eliminamos algunas columnas con drop()\n",
    "fifa21 = fifa21.drop([\"sofifa_id\",\"player_url\",\"long_name\",\"dob\",\"team_jersey_number\",\"ls\",\"st\"], axis=1)\n",
    "fifa21.shape"
   ]
  },
  {
   "cell_type": "code",
   "execution_count": 29,
   "id": "1d0ffb92",
   "metadata": {},
   "outputs": [
    {
     "name": "stdout",
     "output_type": "stream",
     "text": [
      "Index(['club_name', 'league_name', 'league_rank', 'release_clause_eur',\n",
      "       'player_tags', 'team_position', 'loaned_from', 'joined',\n",
      "       'contract_valid_until', 'nation_position', 'nation_jersey_number',\n",
      "       'pace', 'shooting', 'passing', 'dribbling', 'defending', 'physic',\n",
      "       'gk_diving', 'gk_handling', 'gk_kicking', 'gk_reflexes', 'gk_speed',\n",
      "       'gk_positioning', 'player_traits', 'defending_marking'],\n",
      "      dtype='object')\n"
     ]
    }
   ],
   "source": [
    "## Chequeamos si tenemos columnas con valores NaN (al menos uno)\n",
    "print(fifa21.columns[fifa21.isna().any()])"
   ]
  },
  {
   "cell_type": "markdown",
   "id": "f6181e98",
   "metadata": {},
   "source": [
    "Vemos que varias columnas tienen al menos un valor NaN. Por simplicidad vamos a quitar dichas columnas."
   ]
  },
  {
   "cell_type": "code",
   "execution_count": 16,
   "id": "0dd180bf",
   "metadata": {},
   "outputs": [],
   "source": [
    "fifa21 = fifa21.drop(['league_rank', 'release_clause_eur',\n",
    "       'player_tags', 'team_position', 'loaned_from', 'joined',\n",
    "       'contract_valid_until', 'nation_position', 'nation_jersey_number',\n",
    "       'pace', 'shooting', 'passing', 'dribbling', 'defending', 'physic',\n",
    "       'gk_diving', 'gk_handling', 'gk_kicking', 'gk_reflexes', 'gk_speed',\n",
    "       'gk_positioning', 'player_traits', 'defending_marking','real_face'], axis = 1)"
   ]
  },
  {
   "cell_type": "code",
   "execution_count": 17,
   "id": "4cda385a",
   "metadata": {},
   "outputs": [
    {
     "data": {
      "text/html": [
       "<div>\n",
       "<style scoped>\n",
       "    .dataframe tbody tr th:only-of-type {\n",
       "        vertical-align: middle;\n",
       "    }\n",
       "\n",
       "    .dataframe tbody tr th {\n",
       "        vertical-align: top;\n",
       "    }\n",
       "\n",
       "    .dataframe thead th {\n",
       "        text-align: right;\n",
       "    }\n",
       "</style>\n",
       "<table border=\"1\" class=\"dataframe\">\n",
       "  <thead>\n",
       "    <tr style=\"text-align: right;\">\n",
       "      <th></th>\n",
       "      <th>sofifa_id</th>\n",
       "      <th>player_url</th>\n",
       "      <th>short_name</th>\n",
       "      <th>long_name</th>\n",
       "      <th>age</th>\n",
       "      <th>dob</th>\n",
       "      <th>height_cm</th>\n",
       "      <th>weight_kg</th>\n",
       "      <th>nationality</th>\n",
       "      <th>club_name</th>\n",
       "      <th>...</th>\n",
       "      <th>mentality_composure</th>\n",
       "      <th>defending_standing_tackle</th>\n",
       "      <th>defending_sliding_tackle</th>\n",
       "      <th>goalkeeping_diving</th>\n",
       "      <th>goalkeeping_handling</th>\n",
       "      <th>goalkeeping_kicking</th>\n",
       "      <th>goalkeeping_positioning</th>\n",
       "      <th>goalkeeping_reflexes</th>\n",
       "      <th>ls</th>\n",
       "      <th>st</th>\n",
       "    </tr>\n",
       "  </thead>\n",
       "  <tbody>\n",
       "    <tr>\n",
       "      <th>0</th>\n",
       "      <td>158023</td>\n",
       "      <td>https://sofifa.com/player/158023/lionel-messi/...</td>\n",
       "      <td>L. Messi</td>\n",
       "      <td>Lionel Andrés Messi Cuccittini</td>\n",
       "      <td>33</td>\n",
       "      <td>6/24/1987</td>\n",
       "      <td>170</td>\n",
       "      <td>72</td>\n",
       "      <td>Argentina</td>\n",
       "      <td>FC Barcelona</td>\n",
       "      <td>...</td>\n",
       "      <td>96</td>\n",
       "      <td>35</td>\n",
       "      <td>24</td>\n",
       "      <td>6</td>\n",
       "      <td>11</td>\n",
       "      <td>15</td>\n",
       "      <td>14</td>\n",
       "      <td>8</td>\n",
       "      <td>89+3</td>\n",
       "      <td>89+3</td>\n",
       "    </tr>\n",
       "    <tr>\n",
       "      <th>1</th>\n",
       "      <td>20801</td>\n",
       "      <td>https://sofifa.com/player/20801/c-ronaldo-dos-...</td>\n",
       "      <td>Cristiano Ronaldo</td>\n",
       "      <td>Cristiano Ronaldo dos Santos Aveiro</td>\n",
       "      <td>35</td>\n",
       "      <td>2/5/1985</td>\n",
       "      <td>187</td>\n",
       "      <td>83</td>\n",
       "      <td>Portugal</td>\n",
       "      <td>Juventus</td>\n",
       "      <td>...</td>\n",
       "      <td>95</td>\n",
       "      <td>32</td>\n",
       "      <td>24</td>\n",
       "      <td>7</td>\n",
       "      <td>11</td>\n",
       "      <td>15</td>\n",
       "      <td>14</td>\n",
       "      <td>11</td>\n",
       "      <td>91+1</td>\n",
       "      <td>91+1</td>\n",
       "    </tr>\n",
       "    <tr>\n",
       "      <th>2</th>\n",
       "      <td>200389</td>\n",
       "      <td>https://sofifa.com/player/200389/jan-oblak/210002</td>\n",
       "      <td>J. Oblak</td>\n",
       "      <td>Jan Oblak</td>\n",
       "      <td>27</td>\n",
       "      <td>1/7/1993</td>\n",
       "      <td>188</td>\n",
       "      <td>87</td>\n",
       "      <td>Slovenia</td>\n",
       "      <td>Atlético Madrid</td>\n",
       "      <td>...</td>\n",
       "      <td>68</td>\n",
       "      <td>12</td>\n",
       "      <td>18</td>\n",
       "      <td>87</td>\n",
       "      <td>92</td>\n",
       "      <td>78</td>\n",
       "      <td>90</td>\n",
       "      <td>90</td>\n",
       "      <td>33+3</td>\n",
       "      <td>33+3</td>\n",
       "    </tr>\n",
       "    <tr>\n",
       "      <th>3</th>\n",
       "      <td>188545</td>\n",
       "      <td>https://sofifa.com/player/188545/robert-lewand...</td>\n",
       "      <td>R. Lewandowski</td>\n",
       "      <td>Robert Lewandowski</td>\n",
       "      <td>31</td>\n",
       "      <td>8/21/1988</td>\n",
       "      <td>184</td>\n",
       "      <td>80</td>\n",
       "      <td>Poland</td>\n",
       "      <td>FC Bayern München</td>\n",
       "      <td>...</td>\n",
       "      <td>88</td>\n",
       "      <td>42</td>\n",
       "      <td>19</td>\n",
       "      <td>15</td>\n",
       "      <td>6</td>\n",
       "      <td>12</td>\n",
       "      <td>8</td>\n",
       "      <td>10</td>\n",
       "      <td>89+2</td>\n",
       "      <td>89+2</td>\n",
       "    </tr>\n",
       "    <tr>\n",
       "      <th>4</th>\n",
       "      <td>190871</td>\n",
       "      <td>https://sofifa.com/player/190871/neymar-da-sil...</td>\n",
       "      <td>Neymar Jr</td>\n",
       "      <td>Neymar da Silva Santos Júnior</td>\n",
       "      <td>28</td>\n",
       "      <td>2/5/1992</td>\n",
       "      <td>175</td>\n",
       "      <td>68</td>\n",
       "      <td>Brazil</td>\n",
       "      <td>Paris Saint-Germain</td>\n",
       "      <td>...</td>\n",
       "      <td>93</td>\n",
       "      <td>30</td>\n",
       "      <td>29</td>\n",
       "      <td>9</td>\n",
       "      <td>9</td>\n",
       "      <td>15</td>\n",
       "      <td>15</td>\n",
       "      <td>11</td>\n",
       "      <td>84+3</td>\n",
       "      <td>84+3</td>\n",
       "    </tr>\n",
       "    <tr>\n",
       "      <th>...</th>\n",
       "      <td>...</td>\n",
       "      <td>...</td>\n",
       "      <td>...</td>\n",
       "      <td>...</td>\n",
       "      <td>...</td>\n",
       "      <td>...</td>\n",
       "      <td>...</td>\n",
       "      <td>...</td>\n",
       "      <td>...</td>\n",
       "      <td>...</td>\n",
       "      <td>...</td>\n",
       "      <td>...</td>\n",
       "      <td>...</td>\n",
       "      <td>...</td>\n",
       "      <td>...</td>\n",
       "      <td>...</td>\n",
       "      <td>...</td>\n",
       "      <td>...</td>\n",
       "      <td>...</td>\n",
       "      <td>...</td>\n",
       "      <td>...</td>\n",
       "    </tr>\n",
       "    <tr>\n",
       "      <th>18939</th>\n",
       "      <td>256679</td>\n",
       "      <td>https://sofifa.com/player/256679/kevin-angulo/...</td>\n",
       "      <td>K. Angulo</td>\n",
       "      <td>Kevin Angulo</td>\n",
       "      <td>24</td>\n",
       "      <td>4/13/1996</td>\n",
       "      <td>176</td>\n",
       "      <td>73</td>\n",
       "      <td>Colombia</td>\n",
       "      <td>América de Cali</td>\n",
       "      <td>...</td>\n",
       "      <td>36</td>\n",
       "      <td>39</td>\n",
       "      <td>54</td>\n",
       "      <td>10</td>\n",
       "      <td>9</td>\n",
       "      <td>14</td>\n",
       "      <td>6</td>\n",
       "      <td>6</td>\n",
       "      <td>44+2</td>\n",
       "      <td>44+2</td>\n",
       "    </tr>\n",
       "    <tr>\n",
       "      <th>18940</th>\n",
       "      <td>257710</td>\n",
       "      <td>https://sofifa.com/player/257710/mengxuan-zhan...</td>\n",
       "      <td>Zhang Mengxuan</td>\n",
       "      <td>Mengxuan Zhang</td>\n",
       "      <td>21</td>\n",
       "      <td>4/26/1999</td>\n",
       "      <td>177</td>\n",
       "      <td>70</td>\n",
       "      <td>China PR</td>\n",
       "      <td>Chongqing Dangdai Lifan FC SWM Team</td>\n",
       "      <td>...</td>\n",
       "      <td>40</td>\n",
       "      <td>56</td>\n",
       "      <td>47</td>\n",
       "      <td>12</td>\n",
       "      <td>13</td>\n",
       "      <td>8</td>\n",
       "      <td>14</td>\n",
       "      <td>6</td>\n",
       "      <td>32+2</td>\n",
       "      <td>32+2</td>\n",
       "    </tr>\n",
       "    <tr>\n",
       "      <th>18941</th>\n",
       "      <td>250989</td>\n",
       "      <td>https://sofifa.com/player/250989/zhenghao-wang...</td>\n",
       "      <td>Wang Zhenghao</td>\n",
       "      <td>王政豪</td>\n",
       "      <td>20</td>\n",
       "      <td>6/28/2000</td>\n",
       "      <td>185</td>\n",
       "      <td>74</td>\n",
       "      <td>China PR</td>\n",
       "      <td>Tianjin TEDA FC</td>\n",
       "      <td>...</td>\n",
       "      <td>40</td>\n",
       "      <td>55</td>\n",
       "      <td>45</td>\n",
       "      <td>12</td>\n",
       "      <td>9</td>\n",
       "      <td>14</td>\n",
       "      <td>15</td>\n",
       "      <td>13</td>\n",
       "      <td>34+2</td>\n",
       "      <td>34+2</td>\n",
       "    </tr>\n",
       "    <tr>\n",
       "      <th>18942</th>\n",
       "      <td>257697</td>\n",
       "      <td>https://sofifa.com/player/257697/zitong-chen/2...</td>\n",
       "      <td>Chen Zitong</td>\n",
       "      <td>Zitong Chen</td>\n",
       "      <td>23</td>\n",
       "      <td>2/20/1997</td>\n",
       "      <td>186</td>\n",
       "      <td>80</td>\n",
       "      <td>China PR</td>\n",
       "      <td>Shijiazhuang Ever Bright F.C.</td>\n",
       "      <td>...</td>\n",
       "      <td>43</td>\n",
       "      <td>49</td>\n",
       "      <td>45</td>\n",
       "      <td>15</td>\n",
       "      <td>7</td>\n",
       "      <td>7</td>\n",
       "      <td>5</td>\n",
       "      <td>13</td>\n",
       "      <td>44+2</td>\n",
       "      <td>44+2</td>\n",
       "    </tr>\n",
       "    <tr>\n",
       "      <th>18943</th>\n",
       "      <td>257936</td>\n",
       "      <td>https://sofifa.com/player/257936/yue-song/210002</td>\n",
       "      <td>Song Yue</td>\n",
       "      <td>Yue Song</td>\n",
       "      <td>28</td>\n",
       "      <td>11/20/1991</td>\n",
       "      <td>185</td>\n",
       "      <td>79</td>\n",
       "      <td>China PR</td>\n",
       "      <td>Tianjin TEDA FC</td>\n",
       "      <td>...</td>\n",
       "      <td>35</td>\n",
       "      <td>43</td>\n",
       "      <td>45</td>\n",
       "      <td>8</td>\n",
       "      <td>5</td>\n",
       "      <td>11</td>\n",
       "      <td>5</td>\n",
       "      <td>7</td>\n",
       "      <td>46+1</td>\n",
       "      <td>46+1</td>\n",
       "    </tr>\n",
       "  </tbody>\n",
       "</table>\n",
       "<p>18944 rows × 58 columns</p>\n",
       "</div>"
      ],
      "text/plain": [
       "       sofifa_id                                         player_url  \\\n",
       "0         158023  https://sofifa.com/player/158023/lionel-messi/...   \n",
       "1          20801  https://sofifa.com/player/20801/c-ronaldo-dos-...   \n",
       "2         200389  https://sofifa.com/player/200389/jan-oblak/210002   \n",
       "3         188545  https://sofifa.com/player/188545/robert-lewand...   \n",
       "4         190871  https://sofifa.com/player/190871/neymar-da-sil...   \n",
       "...          ...                                                ...   \n",
       "18939     256679  https://sofifa.com/player/256679/kevin-angulo/...   \n",
       "18940     257710  https://sofifa.com/player/257710/mengxuan-zhan...   \n",
       "18941     250989  https://sofifa.com/player/250989/zhenghao-wang...   \n",
       "18942     257697  https://sofifa.com/player/257697/zitong-chen/2...   \n",
       "18943     257936   https://sofifa.com/player/257936/yue-song/210002   \n",
       "\n",
       "              short_name                            long_name  age  \\\n",
       "0               L. Messi       Lionel Andrés Messi Cuccittini   33   \n",
       "1      Cristiano Ronaldo  Cristiano Ronaldo dos Santos Aveiro   35   \n",
       "2               J. Oblak                            Jan Oblak   27   \n",
       "3         R. Lewandowski                   Robert Lewandowski   31   \n",
       "4              Neymar Jr        Neymar da Silva Santos Júnior   28   \n",
       "...                  ...                                  ...  ...   \n",
       "18939          K. Angulo                         Kevin Angulo   24   \n",
       "18940     Zhang Mengxuan                       Mengxuan Zhang   21   \n",
       "18941      Wang Zhenghao                                  王政豪   20   \n",
       "18942        Chen Zitong                          Zitong Chen   23   \n",
       "18943           Song Yue                             Yue Song   28   \n",
       "\n",
       "              dob  height_cm  weight_kg nationality  \\\n",
       "0       6/24/1987        170         72   Argentina   \n",
       "1        2/5/1985        187         83    Portugal   \n",
       "2        1/7/1993        188         87    Slovenia   \n",
       "3       8/21/1988        184         80      Poland   \n",
       "4        2/5/1992        175         68      Brazil   \n",
       "...           ...        ...        ...         ...   \n",
       "18939   4/13/1996        176         73    Colombia   \n",
       "18940   4/26/1999        177         70    China PR   \n",
       "18941   6/28/2000        185         74    China PR   \n",
       "18942   2/20/1997        186         80    China PR   \n",
       "18943  11/20/1991        185         79    China PR   \n",
       "\n",
       "                                 club_name  ... mentality_composure  \\\n",
       "0                             FC Barcelona  ...                  96   \n",
       "1                                 Juventus  ...                  95   \n",
       "2                          Atlético Madrid  ...                  68   \n",
       "3                        FC Bayern München  ...                  88   \n",
       "4                      Paris Saint-Germain  ...                  93   \n",
       "...                                    ...  ...                 ...   \n",
       "18939                      América de Cali  ...                  36   \n",
       "18940  Chongqing Dangdai Lifan FC SWM Team  ...                  40   \n",
       "18941                      Tianjin TEDA FC  ...                  40   \n",
       "18942        Shijiazhuang Ever Bright F.C.  ...                  43   \n",
       "18943                      Tianjin TEDA FC  ...                  35   \n",
       "\n",
       "       defending_standing_tackle  defending_sliding_tackle  \\\n",
       "0                             35                        24   \n",
       "1                             32                        24   \n",
       "2                             12                        18   \n",
       "3                             42                        19   \n",
       "4                             30                        29   \n",
       "...                          ...                       ...   \n",
       "18939                         39                        54   \n",
       "18940                         56                        47   \n",
       "18941                         55                        45   \n",
       "18942                         49                        45   \n",
       "18943                         43                        45   \n",
       "\n",
       "       goalkeeping_diving  goalkeeping_handling goalkeeping_kicking  \\\n",
       "0                       6                    11                  15   \n",
       "1                       7                    11                  15   \n",
       "2                      87                    92                  78   \n",
       "3                      15                     6                  12   \n",
       "4                       9                     9                  15   \n",
       "...                   ...                   ...                 ...   \n",
       "18939                  10                     9                  14   \n",
       "18940                  12                    13                   8   \n",
       "18941                  12                     9                  14   \n",
       "18942                  15                     7                   7   \n",
       "18943                   8                     5                  11   \n",
       "\n",
       "      goalkeeping_positioning  goalkeeping_reflexes    ls    st  \n",
       "0                          14                     8  89+3  89+3  \n",
       "1                          14                    11  91+1  91+1  \n",
       "2                          90                    90  33+3  33+3  \n",
       "3                           8                    10  89+2  89+2  \n",
       "4                          15                    11  84+3  84+3  \n",
       "...                       ...                   ...   ...   ...  \n",
       "18939                       6                     6  44+2  44+2  \n",
       "18940                      14                     6  32+2  32+2  \n",
       "18941                      15                    13  34+2  34+2  \n",
       "18942                       5                    13  44+2  44+2  \n",
       "18943                       5                     7  46+1  46+1  \n",
       "\n",
       "[18944 rows x 58 columns]"
      ]
     },
     "execution_count": 17,
     "metadata": {},
     "output_type": "execute_result"
    }
   ],
   "source": [
    "fifa21.shape\n",
    "fifa21"
   ]
  },
  {
   "cell_type": "markdown",
   "id": "00bd6195",
   "metadata": {},
   "source": [
    "Ahora vamos a chequear si tenemos algún valor Nan dentro del DataFrame."
   ]
  },
  {
   "cell_type": "code",
   "execution_count": 32,
   "id": "fad46c93",
   "metadata": {},
   "outputs": [
    {
     "data": {
      "text/plain": [
       "True"
      ]
     },
     "execution_count": 32,
     "metadata": {},
     "output_type": "execute_result"
    }
   ],
   "source": [
    "fifa21.isna().any().any()"
   ]
  },
  {
   "cell_type": "markdown",
   "id": "b1b11f04",
   "metadata": {},
   "source": [
    "Vemos que *fifa21.isna().any().any()* nos arroja *True*, indicando que tenemos valores NaN.\n",
    "\n",
    "Cuando hacemos\n",
    "\n",
    "```python\n",
    "fifa21.isna().any().any()\n",
    "```\n",
    "\n",
    "Estamos evaluando si algún valor dentro del objeto *Series* de pandas devuelto al hacer *fifa21.isna().any()* tiene algún valor True. Como al menos un valor dentro del objeto *Series* posee un valor True, *fifa21.isna().any().any()* nos arroja True."
   ]
  },
  {
   "cell_type": "code",
   "execution_count": 33,
   "id": "bf39114c",
   "metadata": {},
   "outputs": [],
   "source": [
    "## Nos quedamos con aquellos datos que tienen nombres de club que no sean NA\n",
    "fifa21 = fifa21[fifa21[\"club_name\"].notna()]\n",
    "\n",
    "## Nos quedamos con aquellos datos que tienen nombres de liga que no sean NA\n",
    "fifa21 = fifa21[fifa21[\"league_name\"].notna()]"
   ]
  },
  {
   "cell_type": "code",
   "execution_count": 34,
   "id": "99d7782b",
   "metadata": {},
   "outputs": [],
   "source": [
    "## El resto lo llenamos de cero\n",
    "fifa21 = fifa21.fillna(0)"
   ]
  },
  {
   "cell_type": "markdown",
   "id": "ebcfffb4",
   "metadata": {},
   "source": [
    "¿Estamos seguros que hemos sacado todos los valores NaN?"
   ]
  },
  {
   "cell_type": "code",
   "execution_count": 35,
   "id": "0119b78a",
   "metadata": {},
   "outputs": [
    {
     "data": {
      "text/plain": [
       "False"
      ]
     },
     "execution_count": 35,
     "metadata": {},
     "output_type": "execute_result"
    }
   ],
   "source": [
    "fifa21.isnull().values.any()"
   ]
  },
  {
   "cell_type": "markdown",
   "id": "7f80b462",
   "metadata": {},
   "source": [
    "Por lo que podemos ver, ¡sí!"
   ]
  },
  {
   "cell_type": "markdown",
   "id": "1c0ed994",
   "metadata": {},
   "source": [
    "##### <span style='color:#5DADE2'>Chequeando valores *Null*</span>\n",
    "\n",
    "Podríamos tener valores *Null* dentro del dataframe. Pandas ofrece un método para chequear la presencia de este tipo de valores, el mismo es *.isnull()*.\n",
    "\n",
    "Veamos si tenemos datos null."
   ]
  },
  {
   "cell_type": "code",
   "execution_count": 36,
   "id": "b886fdaa",
   "metadata": {},
   "outputs": [
    {
     "data": {
      "text/plain": [
       "False"
      ]
     },
     "execution_count": 36,
     "metadata": {},
     "output_type": "execute_result"
    }
   ],
   "source": [
    "fifa21.isnull().values.any()"
   ]
  },
  {
   "cell_type": "markdown",
   "id": "7a61084a",
   "metadata": {},
   "source": [
    "Por lo que podemos ver, no tenemos valores *null* dentro de nuestro set de datos.\n",
    "\n",
    "Ahora podemos empezar a trabajar con el dataframe.\n",
    "\n",
    "Empecemos..."
   ]
  },
  {
   "cell_type": "code",
   "execution_count": 37,
   "id": "e853b00f",
   "metadata": {},
   "outputs": [
    {
     "name": "stdout",
     "output_type": "stream",
     "text": [
      "Cantidad de filas/observaciones 18719\n",
      "Cantidad de variables/columnas 51\n"
     ]
    }
   ],
   "source": [
    "print(f\"Cantidad de filas/observaciones {fifa21.shape[0]}\")\n",
    "print(f\"Cantidad de variables/columnas {fifa21.shape[1]}\")"
   ]
  },
  {
   "cell_type": "markdown",
   "id": "fade27a0",
   "metadata": {},
   "source": [
    "##### <span style='color:#5DADE2'>¿Cuantos y qué paises tenemos en el set de datos?</span>\n",
    "\n",
    "Podríamos usar [*pandas.unique(values)*](https://pandas.pydata.org/docs/reference/api/pandas.unique.html) para determinar los jugadores por países de la siguiente manera."
   ]
  },
  {
   "cell_type": "code",
   "execution_count": 38,
   "id": "f90288b3",
   "metadata": {},
   "outputs": [
    {
     "name": "stdout",
     "output_type": "stream",
     "text": [
      "Cantidad de países en el set 161\n"
     ]
    },
    {
     "data": {
      "text/plain": [
       "array(['Argentina', 'Portugal', 'Slovenia', 'Poland', 'Brazil', 'Belgium',\n",
       "       'France', 'Germany', 'Netherlands', 'Senegal', 'Egypt', 'Spain',\n",
       "       'England', 'Scotland', 'Italy', 'Uruguay', 'Croatia', 'Gabon',\n",
       "       'Costa Rica', 'Korea Republic', 'Switzerland', 'Serbia',\n",
       "       'Slovakia', 'Morocco', 'Bosnia Herzegovina', 'Hungary', 'Denmark',\n",
       "       'Algeria', 'Norway', 'Cameroon', 'Nigeria', 'Ghana', 'Mexico',\n",
       "       'Austria', 'Albania', 'Greece', 'Sweden', 'Wales', 'Chile',\n",
       "       'Finland', 'Ivory Coast', 'Colombia', 'Togo', 'Czech Republic',\n",
       "       'Russia', 'Canada', 'United States', 'Guinea', 'Montenegro',\n",
       "       'Venezuela', 'Ukraine', 'Republic of Ireland', 'Israel', 'Jamaica',\n",
       "       'Turkey', 'Australia', 'Northern Ireland', 'China PR', 'Armenia',\n",
       "       'DR Congo', 'Ecuador', 'Kosovo', 'North Macedonia',\n",
       "       'Central African Republic', 'Iceland', 'Peru', 'Mali',\n",
       "       'Burkina Faso', 'Paraguay', 'Romania', 'New Zealand', 'Japan',\n",
       "       'Cape Verde', 'Tunisia', 'Angola', 'Dominican Republic', 'Syria',\n",
       "       'Iran', 'Zambia', 'Panama', 'Georgia', 'Equatorial Guinea',\n",
       "       'Tanzania', 'Kenya', 'Honduras', 'Congo', 'Guinea Bissau',\n",
       "       'Zimbabwe', 'South Africa', 'Iraq', 'Madagascar', 'Moldova',\n",
       "       'Curacao', 'Cuba', 'Mozambique', 'Gambia', 'Cyprus', 'Estonia',\n",
       "       'Benin', 'Lithuania', 'Saudi Arabia', 'Liberia', 'Bulgaria',\n",
       "       'Libya', 'Philippines', 'Sierra Leone', 'Uzbekistan',\n",
       "       'Saint Kitts and Nevis', 'United Arab Emirates', 'Comoros', 'Chad',\n",
       "       'Namibia', 'Thailand', 'Bermuda', 'Luxembourg',\n",
       "       'Trinidad & Tobago', 'Antigua & Barbuda', 'Burundi', 'Kazakhstan',\n",
       "       'New Caledonia', 'Puerto Rico', 'Bolivia', 'Eritrea', 'Latvia',\n",
       "       'Montserrat', 'São Tomé & Príncipe', 'Malawi', 'Mauritania',\n",
       "       'El Salvador', 'Haiti', 'Uganda', 'Chinese Taipei', 'Aruba',\n",
       "       'Faroe Islands', 'Guyana', 'Azerbaijan', 'Afghanistan', 'Sudan',\n",
       "       'Guam', 'Belarus', 'Rwanda', 'Grenada', 'Palestine', 'Lebanon',\n",
       "       'Papua New Guinea', 'Jordan', 'Saint Lucia', 'Liechtenstein',\n",
       "       'Ethiopia', 'Belize', 'Niger', 'Malta', 'Andorra', 'Barbados',\n",
       "       'South Sudan', 'Macau', 'Korea DPR', 'Hong Kong', 'Malaysia',\n",
       "       'Indonesia', 'Nicaragua'], dtype=object)"
      ]
     },
     "execution_count": 38,
     "metadata": {},
     "output_type": "execute_result"
    }
   ],
   "source": [
    "print(f\"Cantidad de países en el set {len(fifa21['nationality'].unique())}\")\n",
    "fifa21['nationality'].unique()"
   ]
  },
  {
   "cell_type": "markdown",
   "id": "aab43108",
   "metadata": {},
   "source": [
    "### <span style='color:#EC7063'>Ejercicios para punto 5</span>\n",
    "\n",
    "A partir de acá usted debe resolver lo que se pide."
   ]
  },
  {
   "cell_type": "markdown",
   "id": "635360b5",
   "metadata": {},
   "source": [
    "##### 5.1 Jugadores de Uruguay y Argentina\n",
    "\n",
    "¿Qué y cuántos jugadores de Uruguay tenemos en el set de datos? ¿Cuales y cuantos de Argentina?\n",
    "\n",
    "Podemos responder a la pregunta aplicando lo que hemos visto. A continuación se muestra un ejemplo para obtener los jugadores de Uruguay. Repita para Argentina (y otros países si quisiera)."
   ]
  },
  {
   "cell_type": "code",
   "execution_count": 39,
   "id": "271a1507",
   "metadata": {},
   "outputs": [
    {
     "name": "stdout",
     "output_type": "stream",
     "text": [
      "Cantidad de jugadores de Uruguay en el set de datos 311\n",
      "\n",
      "Lista\n",
      "10163         A. Ale\n",
      "18260      A. Alfaro\n",
      "7255      A. Argachá\n",
      "17428     A. Barboza\n",
      "9672     A. Canobbio\n",
      "            ...     \n",
      "18088    T. Galletto\n",
      "6424       T. Vecino\n",
      "6194      W. Camacho\n",
      "2818      W. Gargano\n",
      "7581     Y. Calleros\n",
      "Name: short_name, Length: 311, dtype: object\n"
     ]
    }
   ],
   "source": [
    "jugadoresUruguay = fifa21[fifa21[\"nationality\"] == \"Uruguay\"].drop_duplicates(subset = \"short_name\")[\"short_name\"].sort_values()\n",
    "print(f\"Cantidad de jugadores de Uruguay en el set de datos {jugadoresUruguay.shape[0]}\")\n",
    "print()\n",
    "print(\"Lista\")\n",
    "print(jugadoresUruguay)"
   ]
  },
  {
   "cell_type": "code",
   "execution_count": 8,
   "id": "2d84ae23",
   "metadata": {},
   "outputs": [
    {
     "name": "stdout",
     "output_type": "stream",
     "text": [
      "Cantidad de jugadores de Argentina en el set de datos 898\n",
      "\n",
      "Lista\n"
     ]
    },
    {
     "data": {
      "text/plain": [
       "2236       A. Aguerre\n",
       "16751      A. Aguirre\n",
       "12067         A. Aleo\n",
       "7362      A. Almendra\n",
       "9696       A. Antilef\n",
       "             ...     \n",
       "1772     W. Caballero\n",
       "2997       W. Montoya\n",
       "15455        W. Ortíz\n",
       "3392          Y. Asad\n",
       "15529       Y. Juárez\n",
       "Name: short_name, Length: 898, dtype: object"
      ]
     },
     "execution_count": 8,
     "metadata": {},
     "output_type": "execute_result"
    }
   ],
   "source": [
    "## TODO 5.1\n",
    "jugadoresArgentina = fifa21[fifa21[\"nationality\"] == \"Argentina\"].drop_duplicates(subset = \"short_name\")[\"short_name\"].sort_values()\n",
    "print(f\"Cantidad de jugadores de Argentina en el set de datos {jugadoresArgentina.shape[0]}\")\n",
    "print()\n",
    "print(\"Lista\")\n",
    "jugadoresArgentina"
   ]
  },
  {
   "cell_type": "markdown",
   "id": "cc8d9cbb",
   "metadata": {},
   "source": [
    "##### 5.2 Un poco de análisis sobre jugadores uruguayos\n",
    "\n",
    "1. ¿Cuales son las ligas donde juegan los jugadores de nacionalidad uruguaya según el set de datos?\n",
    "2. ¿Cuál es la liga con mayor cantidad de jugadores uruguayos? ¿Qué valor tiene? ¿Cuál es la segunda liga con mayor presencia de jugadores uruguayos?\n",
    "3. ¿Cuantos jugadores uruguayos juegan en la liga *Spain Primera Division*? ¿Quienes son?\n",
    "4. Tomando solo la liga *Spain Primera Division*, ¿cuál es la proporción de jugadores uruguayos? Es decir, cuantos jugadores de nacionalidad uruguaya juegan en la *Spain Primera Division* respecto de todos los que juegan en la *Spain Primera Division*. Reporte un valor porcentual $\\%$\n",
    "5. ¿Cuales son los porcentajes de jugadores uruguayos de *pie derecho* y *pie izquierdo*?\n",
    "6. Realice un histograma con las edades de los jugadores uruguayos dentro del dataset.\n",
    "7. ¿Cuál es el jugador más caro? ¿Cuál el más barato?"
   ]
  },
  {
   "cell_type": "code",
   "execution_count": 85,
   "id": "30a91be3",
   "metadata": {},
   "outputs": [
    {
     "name": "stdout",
     "output_type": "stream",
     "text": [
      "                              short_name\n",
      "league_name                             \n",
      "Spain Primera Division         L. Suárez\n",
      "Italian Serie A                 D. Godín\n",
      "Spain Primera Division        J. Giménez\n",
      "Spain Primera Division       F. Valverde\n",
      "Turkish Süper Lig             F. Muslera\n",
      "...                                  ...\n",
      "Uruguayan Primera División  G. Rodríguez\n",
      "Argentina Primera División    D. Segovia\n",
      "Uruguayan Primera División     J. Recoba\n",
      "Uruguayan Primera División     B. Scorza\n",
      "Uruguayan Primera División      C. Silva\n",
      "\n",
      "[326 rows x 1 columns]\n",
      "la liga con mayores jugadores es la Uruguayan Primera División, cuenta con 160 jugadores \n",
      "la segunda liga con mayores jugadores es la Mexican Liga MX, cuenta con 30 jugadores \n"
     ]
    }
   ],
   "source": [
    "## TODO 5.2\n",
    "\"\"\"1\"\"\"\n",
    "fil1=fifa21[\"nationality\"] == \"Uruguay\"\n",
    "fil2=fifa21[\"league_name\"]\n",
    "ligaUru= fifa21[fil1 & fil2]\n",
    "verlista=ligaUru[[\"league_name\", \"short_name\"]].set_index(\"league_name\")\n",
    "print(verlista)\n",
    "\n",
    "\"\"\"2\"\"\"\n",
    "maxi1= ligaUru[\"league_name\"].value_counts().head().index[0]\n",
    "nuero1= ligaUru[\"league_name\"].value_counts().loc[maxi1]\n",
    "maxi2= ligaUru[\"league_name\"].value_counts().head().index[1]\n",
    "nuero2= ligaUru[\"league_name\"].value_counts().loc[maxi2]\n",
    "print(f\"la liga con mayores jugadores es la {maxi1}, cuenta con {nuero1} jugadores \")\n",
    "print(f\"la segunda liga con mayores jugadores es la {maxi2}, cuenta con {nuero2} jugadores \")\n"
   ]
  },
  {
   "cell_type": "code",
   "execution_count": 7,
   "id": "19867e9f",
   "metadata": {},
   "outputs": [
    {
     "name": "stdout",
     "output_type": "stream",
     "text": [
      "                          short_name\n",
      "league_name                         \n",
      "Spain Primera Division     L. Suárez\n",
      "Spain Primera Division    J. Giménez\n",
      "Spain Primera Division   F. Valverde\n",
      "Spain Primera Division  M. Arambarri\n",
      "Spain Primera Division      M. Gómez\n",
      "Spain Primera Division     D. Suárez\n",
      "Spain Primera Division    M. Olivera\n",
      "Spain Primera Division      L. Olaza\n",
      "Spain Primera Division      G. Silva\n",
      "Spain Primera Division     E. Cabaco\n",
      "Spain Primera Division     A. Espino\n",
      "Spain Primera Division     R. Araujo\n",
      "Spain Primera Division     R. Guerra\n",
      "Spain Primera Division   J. Sanabria\n",
      "Spain Primera Division      M. Villa\n"
     ]
    }
   ],
   "source": [
    "\"\"\"3\"\"\"\n",
    "fil3=fifa21[\"nationality\"] == \"Uruguay\"\n",
    "fil4=fifa21[\"league_name\"] == \"Spain Primera Division\"\n",
    "ligaspain= fifa21[fil3 & fil4]\n",
    "verlista2=ligaspain[[\"league_name\", \"short_name\"]].set_index(\"league_name\")\n",
    "print(verlista2)"
   ]
  },
  {
   "cell_type": "code",
   "execution_count": 15,
   "id": "191ee316",
   "metadata": {},
   "outputs": [
    {
     "name": "stdout",
     "output_type": "stream",
     "text": [
      "el porcentaje de jugadores uruguayos en spain primera division es: 0.0792% \n"
     ]
    },
    {
     "data": {
      "text/plain": [
       "15"
      ]
     },
     "execution_count": 15,
     "metadata": {},
     "output_type": "execute_result"
    }
   ],
   "source": [
    "\"\"\"4\"\"\"\n",
    "fil5=fifa21[\"league_name\"] == \"Spain Primera Division\"\n",
    "porc=(verlista2.shape[0]/fil5.shape[0])*100\n",
    "print(f\"el porcentaje de jugadores uruguayos en spain primera division es: {round(porc,4)}% \")\n"
   ]
  },
  {
   "cell_type": "code",
   "execution_count": 4,
   "id": "537ed1d8",
   "metadata": {},
   "outputs": [
    {
     "data": {
      "text/plain": [
       "(array([ 7.,  8., 14., 20., 27., 29., 26., 19., 24., 24., 25., 27.,  8.,\n",
       "        12., 11., 23., 12.,  8.,  7., 11.,  4.,  3.]),\n",
       " array([17., 18., 19., 20., 21., 22., 23., 24., 25., 26., 27., 28., 29.,\n",
       "        30., 31., 32., 33., 34., 35., 36., 37., 38., 39.]),\n",
       " <BarContainer object of 22 artists>)"
      ]
     },
     "execution_count": 4,
     "metadata": {},
     "output_type": "execute_result"
    },
    {
     "data": {
      "image/png": "[encoded data removed]",
      "text/plain": [
       "<Figure size 432x288 with 1 Axes>"
      ]
     },
     "metadata": {
      "needs_background": "light"
     },
     "output_type": "display_data"
    }
   ],
   "source": [
    "\"\"\"el 5 no se a que se refiere asi que paso directo al 6\n",
    "\"\"\"\n",
    "import matplotlib.pyplot as plt\n",
    "fil6=fifa21[fifa21[\"nationality\"] == \"Uruguay\"][\"age\"]\n",
    "plt.hist(fil6, bins=22)"
   ]
  },
  {
   "cell_type": "code",
   "execution_count": 4,
   "id": "7b35ca5b",
   "metadata": {},
   "outputs": [
    {
     "name": "stdout",
     "output_type": "stream",
     "text": [
      "el jugador mas caro es short_name    L. Messi\n",
      "Name: 1.0, dtype: object y el mas barato es short_name    Song Yue\n",
      "Name: 1.0, dtype: object\n"
     ]
    }
   ],
   "source": [
    "\"\"\"7. Supongo que el rank depende de lo caro del jugador\"\"\"\n",
    "liga=fifa21[[\"league_rank\", \"short_name\"]].set_index(\"league_rank\")\n",
    "print(f\"el jugador mas caro es {liga.iloc[0]} y el mas barato es {liga.iloc[-1]}\")"
   ]
  },
  {
   "cell_type": "markdown",
   "id": "0645382a",
   "metadata": {},
   "source": [
    "ligamyor"
   ]
  },
  {
   "cell_type": "markdown",
   "id": "c7129b51",
   "metadata": {},
   "source": [
    "##### 5.3 Top 20 países con mayores jugadores\n",
    "\n",
    "Realice un gráfico de barras horizontal (*kind = 'barh'*) donde se muestre la cantidad de jugadores de los 20 países con mayores cantidades de jugadores."
   ]
  },
  {
   "cell_type": "code",
   "execution_count": 32,
   "id": "e1d7525c",
   "metadata": {},
   "outputs": [
    {
     "data": {
      "image/png": "[encoded data removed]",
      "text/plain": [
       "<Figure size 432x288 with 1 Axes>"
      ]
     },
     "metadata": {
      "needs_background": "light"
     },
     "output_type": "display_data"
    }
   ],
   "source": [
    "## TODO 5.3\n",
    "import numpy as np\n",
    "lista=fifa21[\"nationality\"].value_counts()[:20]\n",
    "lista.plot(kind=\"barh\")\n",
    "plt.show()\n"
   ]
  },
  {
   "cell_type": "markdown",
   "id": "db467a16",
   "metadata": {},
   "source": [
    "##### 5.4 Puntaje total (*overall*) vs potencial (*potential*)\n",
    "\n",
    "El set de datos cuenta con las columnas llamadas *overall* y *potential*. El *overall* es un puntaje que va de 0 a 100 y representa la media ponderada de todas las habilidades (ej. *skill_dribbling*, *movement_sprint_speed*, etc) para un cierto jugador. Por otro lado, el *potential* o *potencial* es una estimación de si el jugador puede dar más en un futuro.\n",
    "\n",
    "Por ejemplo,"
   ]
  },
  {
   "cell_type": "code",
   "execution_count": 33,
   "id": "964f09f3",
   "metadata": {},
   "outputs": [
    {
     "data": {
      "text/html": [
       "<div>\n",
       "<style scoped>\n",
       "    .dataframe tbody tr th:only-of-type {\n",
       "        vertical-align: middle;\n",
       "    }\n",
       "\n",
       "    .dataframe tbody tr th {\n",
       "        vertical-align: top;\n",
       "    }\n",
       "\n",
       "    .dataframe thead th {\n",
       "        text-align: right;\n",
       "    }\n",
       "</style>\n",
       "<table border=\"1\" class=\"dataframe\">\n",
       "  <thead>\n",
       "    <tr style=\"text-align: right;\">\n",
       "      <th></th>\n",
       "      <th>overall</th>\n",
       "      <th>potential</th>\n",
       "    </tr>\n",
       "    <tr>\n",
       "      <th>short_name</th>\n",
       "      <th></th>\n",
       "      <th></th>\n",
       "    </tr>\n",
       "  </thead>\n",
       "  <tbody>\n",
       "    <tr>\n",
       "      <th>L. Messi</th>\n",
       "      <td>93</td>\n",
       "      <td>93</td>\n",
       "    </tr>\n",
       "    <tr>\n",
       "      <th>K. Mbappé</th>\n",
       "      <td>90</td>\n",
       "      <td>95</td>\n",
       "    </tr>\n",
       "  </tbody>\n",
       "</table>\n",
       "</div>"
      ],
      "text/plain": [
       "            overall  potential\n",
       "short_name                    \n",
       "L. Messi         93         93\n",
       "K. Mbappé        90         95"
      ]
     },
     "execution_count": 33,
     "metadata": {},
     "output_type": "execute_result"
    }
   ],
   "source": [
    "filtromessi = fifa21[\"short_name\"] == \"L. Messi\"\n",
    "filtrombappe = fifa21[\"short_name\"] == \"K. Mbappé\"\n",
    "fifa21[filtromessi | filtrombappe][[\"short_name\",\"overall\",\"potential\"]].set_index(\"short_name\")"
   ]
  },
  {
   "cell_type": "markdown",
   "id": "6f5743af",
   "metadata": {},
   "source": [
    "Podemos ver del dataframe anterior que Messi esta dando todo lo que puede dar, mientras que Mbappe aún podría dar un poco más según las estimaciones del FIFA."
   ]
  },
  {
   "cell_type": "markdown",
   "id": "4f4b5956",
   "metadata": {},
   "source": [
    "Se le pide que grafique un histograma considerando el dataframe completo donde se pueda ver la frecuencia para *overall* y para *potential*."
   ]
  },
  {
   "cell_type": "code",
   "execution_count": 16,
   "id": "402071fe",
   "metadata": {},
   "outputs": [
    {
     "data": {
      "text/plain": [
       "<matplotlib.legend.Legend at 0x1530281bac0>"
      ]
     },
     "execution_count": 16,
     "metadata": {},
     "output_type": "execute_result"
    },
    {
     "data": {
      "image/png": "[encoded data removed]",
      "text/plain": [
       "<Figure size 432x288 with 1 Axes>"
      ]
     },
     "metadata": {
      "needs_background": "light"
     },
     "output_type": "display_data"
    }
   ],
   "source": [
    "##TODO 5.4\n",
    "plt.hist(fifa21[[\"overall\",\"potential\"]], bins=60, range=[40,100] )\n",
    "label=[\"overall\",\"potential\"]\n",
    "plt.legend(label)\n"
   ]
  },
  {
   "cell_type": "markdown",
   "id": "8e453d40",
   "metadata": {},
   "source": [
    "##### 5.5  Analizando datos por posiciones\n",
    "\n",
    "Si se observa la columna *player_positions* del set de datos podemos ver en qué posiciones juega cierto jugador.\n",
    "\n",
    "En base al juego, las posiciones pueden resumirse en:\n",
    "\n",
    "- 'ST','CF','RW','LW' = Atacante\n",
    "- 'LM','RM','CM','CDM','CAM', \"RWB\" = Mediocampista\n",
    "- 'LB','RB','CB', 'LWB' = Defensor\n",
    "- 'GK' = Arquero\n",
    "\n",
    "Ejemplo"
   ]
  },
  {
   "cell_type": "code",
   "execution_count": 45,
   "id": "558948f3",
   "metadata": {},
   "outputs": [
    {
     "data": {
      "text/html": [
       "<div>\n",
       "<style scoped>\n",
       "    .dataframe tbody tr th:only-of-type {\n",
       "        vertical-align: middle;\n",
       "    }\n",
       "\n",
       "    .dataframe tbody tr th {\n",
       "        vertical-align: top;\n",
       "    }\n",
       "\n",
       "    .dataframe thead th {\n",
       "        text-align: right;\n",
       "    }\n",
       "</style>\n",
       "<table border=\"1\" class=\"dataframe\">\n",
       "  <thead>\n",
       "    <tr style=\"text-align: right;\">\n",
       "      <th></th>\n",
       "      <th>player_positions</th>\n",
       "    </tr>\n",
       "    <tr>\n",
       "      <th>short_name</th>\n",
       "      <th></th>\n",
       "    </tr>\n",
       "  </thead>\n",
       "  <tbody>\n",
       "    <tr>\n",
       "      <th>L. Messi</th>\n",
       "      <td>RW, ST, CF</td>\n",
       "    </tr>\n",
       "    <tr>\n",
       "      <th>Cristiano Ronaldo</th>\n",
       "      <td>ST, LW</td>\n",
       "    </tr>\n",
       "    <tr>\n",
       "      <th>J. Oblak</th>\n",
       "      <td>GK</td>\n",
       "    </tr>\n",
       "    <tr>\n",
       "      <th>R. Lewandowski</th>\n",
       "      <td>ST</td>\n",
       "    </tr>\n",
       "    <tr>\n",
       "      <th>Neymar Jr</th>\n",
       "      <td>LW, CAM</td>\n",
       "    </tr>\n",
       "  </tbody>\n",
       "</table>\n",
       "</div>"
      ],
      "text/plain": [
       "                  player_positions\n",
       "short_name                        \n",
       "L. Messi                RW, ST, CF\n",
       "Cristiano Ronaldo           ST, LW\n",
       "J. Oblak                        GK\n",
       "R. Lewandowski                  ST\n",
       "Neymar Jr                  LW, CAM"
      ]
     },
     "execution_count": 45,
     "metadata": {},
     "output_type": "execute_result"
    }
   ],
   "source": [
    "fifa21[[\"player_positions\",\"short_name\"]].set_index(\"short_name\").head()"
   ]
  },
  {
   "cell_type": "markdown",
   "id": "a9de15fc",
   "metadata": {},
   "source": [
    "##### Resuelva\n",
    "\n",
    "1. Recorra la columna *player_positions* del dataframe y genere una nueva columna llamada *onePosition* donde cada posición tenga los valores Atacante, Mediocampista, Defensor o Arquero, según corresponda. Puede utilizar un *for* para recorrer los datos de la columna. Hay jugadores que juegan en más de una posición, por ejemplo Cristiano Ronaldo, en esos casos reemplace con la primer ocurrencia, en el ejemplo de CR7 su posición sería reemplazada por *Atacante* ya que *ST* es la primer ocurrencia. Una vez agregada la columna *onePosition*, elimine la columna *player_positions*\n",
    "2. Genere un gráfico de barras donde se muestre la cantidad de jugadores por cada posición del total del dataframe.\n",
    "3. Repita el punto 2 pero solamente para jugadores de nacionalidad uruguaya.\n",
    "4. ¿Cual es el promedio de costos por posición de los jugadores de nacionalidad uruguaya?"
   ]
  },
  {
   "cell_type": "code",
   "execution_count": 4,
   "id": "02bfedc3",
   "metadata": {},
   "outputs": [
    {
     "name": "stdout",
     "output_type": "stream",
     "text": [
      "                     onePosition  nationality\n",
      "short_name                                   \n",
      "L. Messi                Atacante    Argentina\n",
      "Cristiano Ronaldo       Atacante     Portugal\n",
      "J. Oblak                 Arquero     Slovenia\n",
      "R. Lewandowski          Atacante       Poland\n",
      "Neymar Jr               Atacante       Brazil\n",
      "K. De Bruyne       Mediocampista      Belgium\n",
      "K. Mbappé               Atacante       France\n",
      "M. ter Stegen            Arquero      Germany\n",
      "V. van Dijk             Defensor  Netherlands\n",
      "Alisson                  Arquero       Brazil\n"
     ]
    },
    {
     "data": {
      "text/plain": [
       "<AxesSubplot:>"
      ]
     },
     "execution_count": 4,
     "metadata": {},
     "output_type": "execute_result"
    },
    {
     "data": {
      "image/png": "[encoded data removed]",
      "text/plain": [
       "<Figure size 432x288 with 1 Axes>"
      ]
     },
     "metadata": {
      "needs_background": "light"
     },
     "output_type": "display_data"
    }
   ],
   "source": [
    "## TODO 5.5\n",
    "\"\"\"1\"\"\"\n",
    "nuevalistt=[]\n",
    "listita=[]\n",
    "for i in fifa21[\"player_positions\"]:\n",
    "    nuevalistt.append(i[:2])\n",
    "for j in nuevalistt:\n",
    "    if j == 'ST'or j =='CF'or j =='RW'or j =='LW':\n",
    "        listita.append(\"Atacante\")\n",
    "    elif j ==\"LM\" or j == \"RM\"or j ==\"CM\"or j ==\"CD\"or j ==\"CA\":\n",
    "        listita.append(\"Mediocampista\")\n",
    "    elif j == \"LB\"or  j == \"RB\" or j == \"CB\" or j == \"LW\":\n",
    "        listita.append(\"Defensor\")\n",
    "    elif j =='GK':\n",
    "        listita.append(\"Arquero\")\n",
    "fifa21v2=fifa21.assign(onePosition=listita)\n",
    "fifa21v3= fifa21v2.drop([\"player_positions\"], axis=1)\n",
    "print(fifa21v3[[\"short_name\",\"onePosition\",\"nationality\"]].set_index(\"short_name\").head(10))\n",
    "\"\"\"2\"\"\"\n",
    "kikii=fifa21v3[\"onePosition\"].value_counts()\n",
    "kikii.plot(kind=\"bar\")\n",
    "\n",
    "\n"
   ]
  },
  {
   "cell_type": "code",
   "execution_count": 117,
   "id": "32c4f228",
   "metadata": {},
   "outputs": [
    {
     "data": {
      "text/plain": [
       "<AxesSubplot:>"
      ]
     },
     "execution_count": 117,
     "metadata": {},
     "output_type": "execute_result"
    },
    {
     "data": {
      "image/png": "[encoded data removed]",
      "text/plain": [
       "<Figure size 432x288 with 1 Axes>"
      ]
     },
     "metadata": {
      "needs_background": "light"
     },
     "output_type": "display_data"
    }
   ],
   "source": [
    "\"\"\"3\"\"\"\n",
    "kikii2=fifa21v3[\"onePosition\"][fifa21v3[\"nationality\"]==\"Uruguay\"].value_counts()\n",
    "kikii2.plot(kind=\"bar\")"
   ]
  },
  {
   "cell_type": "code",
   "execution_count": 44,
   "id": "1744f8b8",
   "metadata": {},
   "outputs": [
    {
     "name": "stdout",
     "output_type": "stream",
     "text": [
      "el valor promedio de los Atacante uruguayos es: €2324726.03\n"
     ]
    }
   ],
   "source": [
    "\"\"\"4\n",
    "¿Cual es el promedio de costos por posición de los jugadores de nacionalidad uruguaya?\"\"\"\n",
    "def valor(posicioncita):\n",
    "    fil1= fifa21v3[\"onePosition\"]==posicioncita\n",
    "    fil5= fifa21v3[\"nationality\"]==\"Uruguay\"\n",
    "    promAt= fifa21v3[\"value_eur\"][fil1][fil5].mean()\n",
    "    return promAt\n",
    "position=\"Atacante\"\n",
    "valorcito= valor(position)\n",
    "print(f\"el valor promedio de los {position} uruguayos es: €{round(valorcito,2)}\")\n",
    "\n"
   ]
  },
  {
   "cell_type": "markdown",
   "id": "071949a7",
   "metadata": {},
   "source": [
    "#### 5.6 TOP 10\n",
    "\n",
    "1. Genere un nuevo subset con los datos filtrado por la columna *position* para *Atacante*. Sólo tome los primeros 10 valores. El nuevo subset debe tener las columnas *[short_name, nationality, club_name, height_cm, position,\tvalue_eur, overall, potential]*. Ordenarlo por overall y potential (en ese orden) de manera ascendente (ambos). Realizar un set_index() por *short_name*.\n",
    "2. Repita el punto 1 para formar subsets para las posiciones *Mediocampista*, *Defensor* y *Arquero."
   ]
  },
  {
   "cell_type": "code",
   "execution_count": 41,
   "id": "9adf3be7",
   "metadata": {},
   "outputs": [
    {
     "data": {
      "text/html": [
       "<div>\n",
       "<style scoped>\n",
       "    .dataframe tbody tr th:only-of-type {\n",
       "        vertical-align: middle;\n",
       "    }\n",
       "\n",
       "    .dataframe tbody tr th {\n",
       "        vertical-align: top;\n",
       "    }\n",
       "\n",
       "    .dataframe thead th {\n",
       "        text-align: right;\n",
       "    }\n",
       "</style>\n",
       "<table border=\"1\" class=\"dataframe\">\n",
       "  <thead>\n",
       "    <tr style=\"text-align: right;\">\n",
       "      <th></th>\n",
       "      <th>nationality</th>\n",
       "      <th>club_name</th>\n",
       "      <th>height_cm</th>\n",
       "      <th>value_eur</th>\n",
       "      <th>overall</th>\n",
       "      <th>potential</th>\n",
       "    </tr>\n",
       "    <tr>\n",
       "      <th>short_name</th>\n",
       "      <th></th>\n",
       "      <th></th>\n",
       "      <th></th>\n",
       "      <th></th>\n",
       "      <th></th>\n",
       "      <th></th>\n",
       "    </tr>\n",
       "  </thead>\n",
       "  <tbody>\n",
       "    <tr>\n",
       "      <th>L. Messi</th>\n",
       "      <td>Argentina</td>\n",
       "      <td>FC Barcelona</td>\n",
       "      <td>170</td>\n",
       "      <td>67500000</td>\n",
       "      <td>93</td>\n",
       "      <td>93</td>\n",
       "    </tr>\n",
       "    <tr>\n",
       "      <th>Cristiano Ronaldo</th>\n",
       "      <td>Portugal</td>\n",
       "      <td>Juventus</td>\n",
       "      <td>187</td>\n",
       "      <td>46000000</td>\n",
       "      <td>92</td>\n",
       "      <td>92</td>\n",
       "    </tr>\n",
       "    <tr>\n",
       "      <th>R. Lewandowski</th>\n",
       "      <td>Poland</td>\n",
       "      <td>FC Bayern München</td>\n",
       "      <td>184</td>\n",
       "      <td>80000000</td>\n",
       "      <td>91</td>\n",
       "      <td>91</td>\n",
       "    </tr>\n",
       "    <tr>\n",
       "      <th>Neymar Jr</th>\n",
       "      <td>Brazil</td>\n",
       "      <td>Paris Saint-Germain</td>\n",
       "      <td>175</td>\n",
       "      <td>90000000</td>\n",
       "      <td>91</td>\n",
       "      <td>91</td>\n",
       "    </tr>\n",
       "    <tr>\n",
       "      <th>K. Mbappé</th>\n",
       "      <td>France</td>\n",
       "      <td>Paris Saint-Germain</td>\n",
       "      <td>178</td>\n",
       "      <td>105500000</td>\n",
       "      <td>90</td>\n",
       "      <td>95</td>\n",
       "    </tr>\n",
       "    <tr>\n",
       "      <th>S. Mané</th>\n",
       "      <td>Senegal</td>\n",
       "      <td>Liverpool</td>\n",
       "      <td>175</td>\n",
       "      <td>78000000</td>\n",
       "      <td>90</td>\n",
       "      <td>90</td>\n",
       "    </tr>\n",
       "    <tr>\n",
       "      <th>M. Salah</th>\n",
       "      <td>Egypt</td>\n",
       "      <td>Liverpool</td>\n",
       "      <td>175</td>\n",
       "      <td>78000000</td>\n",
       "      <td>90</td>\n",
       "      <td>90</td>\n",
       "    </tr>\n",
       "    <tr>\n",
       "      <th>S. Agüero</th>\n",
       "      <td>Argentina</td>\n",
       "      <td>Manchester City</td>\n",
       "      <td>173</td>\n",
       "      <td>53000000</td>\n",
       "      <td>89</td>\n",
       "      <td>89</td>\n",
       "    </tr>\n",
       "    <tr>\n",
       "      <th>K. Benzema</th>\n",
       "      <td>France</td>\n",
       "      <td>Real Madrid</td>\n",
       "      <td>185</td>\n",
       "      <td>53000000</td>\n",
       "      <td>89</td>\n",
       "      <td>89</td>\n",
       "    </tr>\n",
       "    <tr>\n",
       "      <th>R. Sterling</th>\n",
       "      <td>England</td>\n",
       "      <td>Manchester City</td>\n",
       "      <td>170</td>\n",
       "      <td>72500000</td>\n",
       "      <td>88</td>\n",
       "      <td>90</td>\n",
       "    </tr>\n",
       "  </tbody>\n",
       "</table>\n",
       "</div>"
      ],
      "text/plain": [
       "                  nationality            club_name  height_cm  value_eur  \\\n",
       "short_name                                                                 \n",
       "L. Messi            Argentina         FC Barcelona        170   67500000   \n",
       "Cristiano Ronaldo    Portugal             Juventus        187   46000000   \n",
       "R. Lewandowski         Poland    FC Bayern München        184   80000000   \n",
       "Neymar Jr              Brazil  Paris Saint-Germain        175   90000000   \n",
       "K. Mbappé              France  Paris Saint-Germain        178  105500000   \n",
       "S. Mané               Senegal            Liverpool        175   78000000   \n",
       "M. Salah                Egypt            Liverpool        175   78000000   \n",
       "S. Agüero           Argentina      Manchester City        173   53000000   \n",
       "K. Benzema             France          Real Madrid        185   53000000   \n",
       "R. Sterling           England      Manchester City        170   72500000   \n",
       "\n",
       "                   overall  potential  \n",
       "short_name                             \n",
       "L. Messi                93         93  \n",
       "Cristiano Ronaldo       92         92  \n",
       "R. Lewandowski          91         91  \n",
       "Neymar Jr               91         91  \n",
       "K. Mbappé               90         95  \n",
       "S. Mané                 90         90  \n",
       "M. Salah                90         90  \n",
       "S. Agüero               89         89  \n",
       "K. Benzema              89         89  \n",
       "R. Sterling             88         90  "
      ]
     },
     "execution_count": 41,
     "metadata": {},
     "output_type": "execute_result"
    }
   ],
   "source": [
    "## TODO 5.6\n",
    "\"\"\"Este codigo cumple con lo requerido en ambos puntos, donde el valor enviado es la posicion en un formato de string\"\"\"\n",
    "def prom(posicion):\n",
    "    filtroAt=fifa21v3[\"onePosition\"]== posicion\n",
    "    subset1=fifa21v3[[\"short_name\",\"nationality\",\"club_name\",\"height_cm\",\"value_eur\",\"overall\",\"potential\"]][filtroAt][:10].set_index(\"short_name\")\n",
    "    return subset1\n",
    "\n",
    "valor= prom(\"Atacante\")\n",
    "valor"
   ]
  }
 ],
 "metadata": {
  "kernelspec": {
   "display_name": "Python 3.9.7 ('base')",
   "language": "python",
   "name": "python3"
  },
  "language_info": {
   "codemirror_mode": {
    "name": "ipython",
    "version": 3
   },
   "file_extension": ".py",
   "mimetype": "text/x-python",
   "name": "python",
   "nbconvert_exporter": "python",
   "pygments_lexer": "ipython3",
   "version": "3.9.7"
  },
  "vscode": {
   "interpreter": {
    "hash": "006f6d0a146a98ae4e484b7ab3e390336df27d1d007489d4cd24e5cef89f8849"
   }
  }
 },
 "nbformat": 4,
 "nbformat_minor": 5
}
