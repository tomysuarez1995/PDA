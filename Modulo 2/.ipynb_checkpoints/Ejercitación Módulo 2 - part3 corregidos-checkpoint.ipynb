{
 "cells": [
  {
   "cell_type": "markdown",
   "id": "6c5bce21",
   "metadata": {},
   "source": [
    "# <center> <span style='color:#3A40A2 '>Ejercitación Módulo 2 - 3ra parte</span></center>\n",
    "<hr style=\"border:1px solid gray\"> </hr>\n",
    "\n",
    "La siguiente notebook contiene ejercitación del Módulo 2 de la Unidad Curricular ***\"Programación Digital Avanzada\"*** de la carrera de *Ingeniería Biomédica* de la UTEC.\n",
    "\n",
    "La *primera parte* y la *segunda parte* de esta notebook serán utilizadas para ejercitación. Por otro lado, la *tercera parte* será utilizada para el laboratorio del módulo y **se debe entregar** resuelta en una Jupyter Notebbok (puede ser esta misma). Además debe subirse la resolución a su repositorio de PDA en github.\n",
    "\n",
    "Profesor Adjunto: *Mag. Bioing. Baldezzari Lucas*\n",
    "\n",
    "<p style='text-align: right;'> V2022 </p>"
   ]
  },
  {
   "cell_type": "markdown",
   "id": "17315869",
   "metadata": {},
   "source": [
    "<hr style=\"border:1px solid gray\"> </hr>\n",
    "\n",
    "## <span style='color:#3A40A2 '> Tercera parte </span>\n",
    "\n",
    "Esta parte corresponde a ejercicios obligatorios que deben ser entregados.\n",
    "\n",
    "Se trabajará sobre estos problemas en la clase de Laboratorio."
   ]
  },
  {
   "cell_type": "markdown",
   "id": "0de98cfc",
   "metadata": {},
   "source": [
    "##### Ejercicio 3.1\n",
    "\n",
    "Implemente una función que reciba como parámetro una muestra de números (enteros o flotantes) y retorne una lista con los valores *outliers* o *atípicos*. En caso de que no existan valores atípicos, la función debe retornar None.\n",
    "\n",
    "Los outliers se calculan de la siguiente manera.\n",
    "\n",
    "$$ outlier < Q_1 - 1.5RIC \\vee outlier > Q_3 + 1.5RIC $$\n",
    "\n",
    "Donde $RIC$ representa el *Rango Intercuartil* y esta dado por $RIC = Q_3 - Q_1$."
   ]
  },
  {
   "cell_type": "code",
   "execution_count": 1,
   "id": "1c4821ce",
   "metadata": {},
   "outputs": [
    {
     "ename": "SyntaxError",
     "evalue": "invalid syntax (Temp/ipykernel_7904/2691604185.py, line 19)",
     "output_type": "error",
     "traceback": [
      "\u001b[1;36m  File \u001b[1;32m\"C:\\Users\\tomy_\\AppData\\Local\\Temp/ipykernel_7904/2691604185.py\"\u001b[1;36m, line \u001b[1;32m19\u001b[0m\n\u001b[1;33m    else len(lita)==0:\u001b[0m\n\u001b[1;37m         ^\u001b[0m\n\u001b[1;31mSyntaxError\u001b[0m\u001b[1;31m:\u001b[0m invalid syntax\n"
     ]
    }
   ],
   "source": [
    "### Resolución ejercicio 3.1\n",
    "##TO DO\n",
    "lita=[55,55,66,36,54,58,93,30,26,49,79,73,34,3444,6909,5,4,6]\n",
    "    \n",
    "def outlie(lita):\n",
    "    sorted(lita)\n",
    "    med= sum(lita)/len(lita)\n",
    "    q11= (len(lita)+1)//4\n",
    "    q31= (3*(len(lita)+1))//4\n",
    "    q1= lita[q11]\n",
    "    q2= lita[q31]\n",
    "    RIC= q2-q1\n",
    "    lista2=[]\n",
    "    a=q1-1.5*RIC\n",
    "    b=q2+1.5*RIC\n",
    "    for i in lita:\n",
    "        if i<a or i>b:\n",
    "            lista2.append(i)\n",
    "        else len(lita)==0:\n",
    "            return None\n",
    "    return lista2\n",
    "print(f\"el o los valoes outliers son: {outlie(lita)}\")   \n"
   ]
  },
  {
   "cell_type": "code",
   "execution_count": 20,
   "id": "745936ea",
   "metadata": {},
   "outputs": [
    {
     "name": "stdout",
     "output_type": "stream",
     "text": [
      "3 11 37 36 73 3444\n"
     ]
    }
   ],
   "source": [
    "lita=[55,55,66,36,54,58,93,30,26,49,79,73,34,3444]\n",
    "q11= (len(lita)+1)//4\n",
    "q31= (3*(len(lita)+1))//4\n",
    "q1= lita[q11]\n",
    "q3=lita[q31]\n",
    "RIC= q3-q1\n",
    "print(q11, q31, RIC, q1, q3, lita[13])\n"
   ]
  },
  {
   "cell_type": "markdown",
   "id": "37c8b395",
   "metadata": {},
   "source": [
    "##### Ejercicio 3.2\n",
    "\n",
    "La función *[sum()](https://docs.python.org/3/library/functions.html#sum)* de Python permite sumar una secuencia de números.\n",
    "\n",
    "Su implementación es,\n",
    "\n",
    "```Python\n",
    "sum(iterable, start)\n",
    "```\n",
    "\n",
    "Como se ve, solo recibe dos parámetros. Si hacemos, \n",
    "\n",
    "```Python\n",
    "sum([1,2,3]) #obtenemos 6 de resultado.\n",
    "```\n",
    "\n",
    "Pero si quisieramos hacer *sum(1,2,3,4)* obtendríamos un error.\n",
    "\n",
    "Se pide que implemente una función suma de tal manera que pueda recibir cualquier cantidad de parámetros (1,2,...,n) y retorne la suma de los mismos. Los parámetros solo pueden ser números enteros o flotantes separados por coma."
   ]
  },
  {
   "cell_type": "code",
   "execution_count": 6,
   "id": "4b721a6d",
   "metadata": {},
   "outputs": [
    {
     "name": "stdout",
     "output_type": "stream",
     "text": [
      "ingrese un numero: 5\n",
      "ingrese y o n para continuar o terminar: y\n",
      "ingrese un numero: 5\n",
      "ingrese y o n para continuar o terminar: y\n",
      "ingrese un numero: 5\n",
      "ingrese y o n para continuar o terminar: y\n",
      "ingrese un numero: 5\n",
      "ingrese y o n para continuar o terminar: n\n",
      "la lista con los numeros [5, 5, 5, 5] es: 20\n"
     ]
    }
   ],
   "source": [
    "### Resolución ejercicio 3.2\n",
    "### aTO DO\n",
    "lista=[]\n",
    "while True:\n",
    "    n1=int(input (\"ingrese un numero: \"))\n",
    "    seguir= input(\"ingrese y o n para continuar o terminar: \")\n",
    "    \n",
    "    lista.append(n1)\n",
    "    if seguir == \"y\":\n",
    "        continue\n",
    "    elif seguir ==\"n\":\n",
    "        break\n",
    "def suma(lista):\n",
    "    resultado = 0\n",
    "    for i in lista:\n",
    "        resultado += i\n",
    "    return resultado\n",
    "\n",
    "print(f\"la lista con los numeros {lista} es: {suma(lista)}\")"
   ]
  },
  {
   "cell_type": "markdown",
   "id": "b6b9f121",
   "metadata": {},
   "source": [
    "##### Ejercicio 3.3\n",
    "\n",
    "Implemente una función que devuelva el índice de masa corporal. La función recibe como parámetros una lista con las alturas en $cm$ y una lista con los pesos en $kg$ de una cierta cantidad de personas.\n",
    "\n",
    "Implemente la solución utilizando comprensión de listas e/o intente dar una solución usando funciones lambdas con la función map() de Python."
   ]
  },
  {
   "cell_type": "code",
   "execution_count": 11,
   "id": "5d6702f8",
   "metadata": {},
   "outputs": [
    {
     "name": "stdout",
     "output_type": "stream",
     "text": [
      "[24.38237297859371, 38.754325259515575, 33.694937541091385, 24.740937287102444, 20.15621063240111, 16.579940822365064]\n"
     ]
    }
   ],
   "source": [
    "### Resolución ejercicio 3.3\n",
    "### TO DO\n",
    "altura = [1.67,1.70,1.56,1.67,1.89,1.98]\n",
    "peso = [68,112,82,69,72,65]\n",
    "product = [x/(y*y) for x,y in zip(peso,altura)]\n",
    "print(product)"
   ]
  },
  {
   "cell_type": "markdown",
   "id": "5862b855",
   "metadata": {},
   "source": [
    "##### Ejercicio 3.4\n",
    "\n",
    "Implemente una función llamada *mathOperations* que reciba como parámetros,\n",
    "- Un string con la operación a realizar, \"sumar\" para sumar, \"restar\" para restar, \"dividir\" para dividir y \"multiplicar\" para multiplicar.\n",
    "- Y dos variables numéricas que se usarán para realizar la operación matemática seleccionada.\n",
    "\n",
    "La función debe devolver un resultado dependiendo de la operación seleccionada.\n",
    "\n",
    "La implementación de la función debe contener anotaciones y documentación apropiada."
   ]
  },
  {
   "cell_type": "code",
   "execution_count": 9,
   "id": "6d787c0d",
   "metadata": {},
   "outputs": [
    {
     "name": "stdout",
     "output_type": "stream",
     "text": [
      "menu: ingrese 1  para suma; ingrese 2  para resta, ingrese 3  para division, ingrese 4  para multiplicacion\n",
      "ingrese que tipo de operacion desea realizar segun el menu: \n",
      "ingrese un valor: mmm\n"
     ]
    },
    {
     "ename": "ValueError",
     "evalue": "invalid literal for int() with base 10: 'mmm'",
     "output_type": "error",
     "traceback": [
      "\u001b[1;31m---------------------------------------------------------------------------\u001b[0m",
      "\u001b[1;31mValueError\u001b[0m                                Traceback (most recent call last)",
      "\u001b[1;32m~\\AppData\\Local\\Temp/ipykernel_1320/457356167.py\u001b[0m in \u001b[0;36m<module>\u001b[1;34m\u001b[0m\n\u001b[0;32m      4\u001b[0m \u001b[0mtipo\u001b[0m\u001b[1;33m=\u001b[0m \u001b[0minput\u001b[0m\u001b[1;33m(\u001b[0m\u001b[1;34m\"ingrese que tipo de operacion desea realizar segun el menu: \"\u001b[0m\u001b[1;33m)\u001b[0m\u001b[1;33m\u001b[0m\u001b[1;33m\u001b[0m\u001b[0m\n\u001b[0;32m      5\u001b[0m \u001b[1;33m\u001b[0m\u001b[0m\n\u001b[1;32m----> 6\u001b[1;33m \u001b[0mn1\u001b[0m\u001b[1;33m=\u001b[0m \u001b[0mint\u001b[0m\u001b[1;33m(\u001b[0m\u001b[0minput\u001b[0m\u001b[1;33m(\u001b[0m\u001b[1;34m\"ingrese un valor: \"\u001b[0m\u001b[1;33m)\u001b[0m\u001b[1;33m)\u001b[0m\u001b[1;33m\u001b[0m\u001b[1;33m\u001b[0m\u001b[0m\n\u001b[0m\u001b[0;32m      7\u001b[0m \u001b[0mn2\u001b[0m\u001b[1;33m=\u001b[0m \u001b[0mint\u001b[0m\u001b[1;33m(\u001b[0m\u001b[0minput\u001b[0m\u001b[1;33m(\u001b[0m\u001b[1;34m\"ingrese el segundo valor: \"\u001b[0m\u001b[1;33m)\u001b[0m\u001b[1;33m)\u001b[0m\u001b[1;33m\u001b[0m\u001b[1;33m\u001b[0m\u001b[0m\n\u001b[0;32m      8\u001b[0m \u001b[1;33m\u001b[0m\u001b[0m\n",
      "\u001b[1;31mValueError\u001b[0m: invalid literal for int() with base 10: 'mmm'"
     ]
    }
   ],
   "source": [
    "### Resolución ejercicio 3.4\n",
    "### TO DO\n",
    "print (\"menu: ingrese 1  para suma; ingrese 2  para resta, ingrese 3  para division, ingrese 4  para multiplicacion\")\n",
    "tipo= int(input(\"ingrese que tipo de operacion desea realizar segun el menu: \"))\n",
    "\n",
    "n1= int(input(\"ingrese un valor: \"))\n",
    "n2= int(input(\"ingrese el segundo valor: \"))\n",
    "\n",
    "def mathOperations(n1,n2):\n",
    "    n3=0\n",
    "    if tipo== \"1\":\n",
    "        n3=n1+n2\n",
    "    elif tipo == \"2\":\n",
    "        n3= n1-n2\n",
    "    elif tipo == \"3\":\n",
    "        n3= n1/n2\n",
    "    elif tipo == \"4\":\n",
    "        n3= n1*n2\n",
    "    else:\n",
    "        return \"no ingreso el dato correcto en el menu, las opciones correctas son 1, 2, 3, 4\"\n",
    "    return n3\n",
    "print(f\"la operacion seleccionada dio como resultado: {mathOperations(n1,n2)}\")"
   ]
  },
  {
   "cell_type": "markdown",
   "id": "b9f3d129",
   "metadata": {},
   "source": [
    "##### Ejercicio 3.5\n",
    "\n",
    "El número $\\pi$ puede aproximarse con la siguiente fórmula de aproximación,\n",
    "\n",
    "\\begin{equation*}\n",
    "\\pi = 3+ 4 \\sum _ { n = 2,4,6...; k=0,1,2.. } ^ { N,K } (-1)^k \\left[ \\frac {1}{n (n+1) (n+2)} \\right]\n",
    "\\end{equation*}\n",
    "\n",
    "Implemente una función que reciba como argumento la cantidad de aproximaciones *$N$* a realizar y retorne el valor de la aproximación.\n",
    "\n",
    "La implementación de la función debe contener anotaciones y documentación apropiada.\n",
    "\n",
    "NOTA: El valor de $k$ sirve para alternar el signo del término $(-1)^k$."
   ]
  },
  {
   "cell_type": "code",
   "execution_count": 57,
   "id": "8b80fb8c",
   "metadata": {},
   "outputs": [
    {
     "name": "stdout",
     "output_type": "stream",
     "text": [
      "ingrese un valor N para realizar las aproximaciones: 2.09\n",
      "la sumatoria da: 3.131337928472642\n"
     ]
    }
   ],
   "source": [
    "## Resolución Ejercicio 3.5\n",
    "##TO DO\n",
    "num= float(input(\"ingrese un valor N para realizar las aproximaciones: \"))\n",
    "\n",
    "def pi(num):\n",
    "    k=0\n",
    "    i=num\n",
    "    kk=0\n",
    "    lista=[]\n",
    "    while k<=num:\n",
    "        kk=((-1)**k)*(1/(i*(i+1)*(i+2)))\n",
    "        lista.append(kk)\n",
    "        k+=1\n",
    "        i+=2\n",
    "    suma= sum(lista)\n",
    "    numpi= 3+(4*suma)\n",
    "    return numpi\n",
    "print(f\"la sumatoria da: {pi(num)}\")"
   ]
  },
  {
   "cell_type": "markdown",
   "id": "99326d18",
   "metadata": {},
   "source": [
    "##### Ejercicio 3.6\n",
    "\n",
    "En criptografía, el cifrado César, también conocido como cifrado por desplazamiento, código de César o desplazamiento de César, es una de las técnicas de cifrado más simples conocidas. Es un tipo de cifrado por sustitución en el que una letra en el texto original es reemplazada por otra letra que se encuentra un número fijo de posiciones más adelante en el alfabeto. Por ejemplo, con un desplazamiento de 3, la A sería sustituida por la D (situada 3 lugares a la derecha de la A), la B sería reemplazada por la E, etc. Este método debe su nombre a Julio César, que lo usaba para comunicarse con sus generales. Fuente [Wikipedia](https://es.wikipedia.org/wiki/Cifrado_C%C3%A9sar).\n",
    "\n",
    "Debe implementar,\n",
    "- Una función que se llame *codificar()* que reciba un mensaje y la cantidad de desplazamientos a realizar (la función debe tener este parametro con un valor por defecto para el caso de que el usuario no otorge un valor). La función debe retornar un mensaje encriptado.\n",
    "- Una función que se llame *decodificar* que reciba como argumento la cantidad de desplazamientos a realizar (la función debe tener este parametro con un valor por defecto para el caso de que el usuario no otorge un valor). La función debe retornar un mensaje desencriptado.\n",
    "\n",
    "La implementación de la función debe contener anotaciones y documentación apropiada."
   ]
  },
  {
   "cell_type": "code",
   "execution_count": 11,
   "id": "b81b07f0",
   "metadata": {},
   "outputs": [
    {
     "name": "stdout",
     "output_type": "stream",
     "text": [
      "introducir Mensaje: jqnc okngpc, eqoq guvcu?\n",
      "ingrese el numero de movimientos a realizar [1-26]: 2\n",
      "ingrese el modo, 1 para cifrar y 2 para descifrar: 2\n",
      "el mensaje cifrado es: hola milena, como estas?\n"
     ]
    }
   ],
   "source": [
    "## Resolución Ejercicio 3.6\n",
    "##TO DO\n",
    "\n",
    "mensaje = input(\"introducir Mensaje: \")\n",
    "mov = int(input(\"ingrese el numero de movimientos a realizar [1-26]: \"))\n",
    "modo= int(input(\"ingrese el modo, 1 para cifrar y 2 para descifrar: \"))       \n",
    "def codificar(mensaje, mov):\n",
    "    trans = \"\"\n",
    "    letras= \"abcdefghijklmnopqrstuvwxyz\"\n",
    "    for simbol in mensaje:\n",
    "        if simbol in letras:\n",
    "            num = letras.find(simbol)\n",
    "            num = num + mov\n",
    "            if num >= len(letras):\n",
    "                num -= len(letras)\n",
    "            elif num < 0:\n",
    "                num += len(letras)\n",
    "            trans += letras[num]\n",
    "        else:\n",
    "            trans += simbol\n",
    "    return trans\n",
    "\n",
    "def decodificar(mensaje, mov):\n",
    "    trans = \"\"\n",
    "    letras= \"abcdefghijklmnopqrstuvwxyz\"\n",
    "    for simbol in mensaje:\n",
    "        if simbol in letras:\n",
    "            num = letras.find(simbol)\n",
    "            num = num - mov\n",
    "            if num >= len(letras):\n",
    "                num -= len(letras)\n",
    "            elif num < 0:\n",
    "                num += len(letras)\n",
    "            trans += letras[num]\n",
    "        else:\n",
    "            trans += simbol\n",
    "    return trans\n",
    "if modo == 1:\n",
    "    print(f\"el mensaje cifrado es: {codificar(mensaje, mov)}\")\n",
    "elif modo==2:\n",
    "    print(f\"el mensaje cifrado es: {decodificar(mensaje, mov)}\")"
   ]
  },
  {
   "cell_type": "markdown",
   "id": "a2b06185",
   "metadata": {},
   "source": [
    "##### Ejercicio 3.7\n",
    "\n",
    "Una ruleta posee una rueda con 38 espacios. De estos espacios, 18 son negros, 18 son rojos y dos son verdes. Los espacios verdes están numerados cómo 0 y 00 (por simplicidad tomar sólo 0 como posible apuesta).\n",
    "\n",
    "Los espacios rojos en la ruleta están numerados 1, 3, 5, 7, 9, 12, 14, 16, 18, 19, 21, 23, 25, 27, 30 32, 34 y 36. El resto de los números son de color negro.\n",
    "\n",
    "Es posible realizar muchas apuestas en un juego de ruleta convencional, no obstante, para este ejercicio considere las siguientes:\n",
    "\n",
    "- Números simples (1 a 36, y 0)\n",
    "- Negras vs Rojas\n",
    "- Pares vs Impares (el 0 no debe considerarse dentro de esta apuesta)\n",
    "- 1 a 18 vs 19 a 36.\n",
    "\n",
    "Implemente una función que reciba como argumento una apuesta (número entero) entre 0 y 36. La función debe generar un número entero aleatorio (use las funciones de la librería *random*) y devolver un mensaje donde se informe que apuestas deben pagarse al jugador, por ejemplo,\n",
    "\n",
    "```Python\n",
    "print(juegoRuleta(apuesta = 14))\n",
    "```\n",
    "\n",
    "Si el número aleatorio generado es el 14, el mensaje retornado debería ser similar a:\n",
    "\n",
    "- Pagar al 14\n",
    "- Pagar rojas\n",
    "- Pagar pares\n",
    "- Pagar 1 a 18\n",
    "\n",
    "Si el número aleatorio generado es el 23, el mensaje retornado debería ser similar a:\n",
    "\n",
    "- Pagar rojas\n",
    "\n",
    "\n",
    "La implementación de la función debe contener anotaciones y documentación apropiada."
   ]
  },
  {
   "cell_type": "code",
   "execution_count": 45,
   "id": "31709ffa",
   "metadata": {},
   "outputs": [],
   "source": [
    "## Resolución Ejercicio 3.7\n",
    "##TO DO\n",
    "import random\n"
   ]
  },
  {
   "cell_type": "markdown",
   "id": "16681842",
   "metadata": {},
   "source": [
    "##### Ejercicio 3.8\n",
    "\n",
    "1. Implemente una función que reciba como parámetro una lista de palabras y devuelva una lista de las posibles combinaciones de a dos. La lista retornada debe contener las tuplas correspondientes a la combinación de dos palabras. Por ejemplo, si la lista es,\n",
    "\n",
    "```Python\n",
    "palabras = [\"ing\", \"bio\", \"bci\"]\n",
    "```\n",
    "\n",
    "La función debe retornar algo similar a:\n",
    "\n",
    "```Python\n",
    ">> [(\"ing\",\"bio\"), (\"ing\",\"bci\"), (\"bio\",\"bci\")]\n",
    "```\n",
    "\n",
    "Recuerde que en combinación **no** importa el orden.\n",
    "\n",
    "2. Luego intente implementar lo mismo utilizando *list comprehension* y utilizando la función *[combinations](https://docs.python.org/3/library/itertools.html#itertools.combinations)* de la librería *[itertools](https://docs.python.org/3/library/itertools.html)*. Para usar esta herramienta debe importar la librería o bien el método, haciendo,\n",
    "\n",
    "```Python\n",
    "from itertools import combinations\n",
    "```\n",
    "\n",
    "La implementación de la función debe contener anotaciones y documentación apropiada."
   ]
  },
  {
   "cell_type": "code",
   "execution_count": 8,
   "id": "a3e03a70",
   "metadata": {},
   "outputs": [],
   "source": [
    "## Resolución Ejercicio 3.8\n",
    "##TO DO"
   ]
  },
  {
   "cell_type": "markdown",
   "id": "977d6306",
   "metadata": {},
   "source": [
    "##### Ejercicio 3.9\n",
    "\n",
    "Implemente una función que reciba una lista de elementos enteros, o flotantes, o strings (podría ser una lista con elementos del mismo tipo o bien una mezcla de estos) y retorne una lista con los elementos sin repetir.\n",
    "\n",
    "Como ejemplo, si la lista es *[1,2,3,4,5,5,6,7,7,1,2,8,9,9]* la función debe retornar *[1,2,3,4,5,6,7,8]*.\n",
    "\n",
    "La implementación de la función debe contener anotaciones y documentación apropiada."
   ]
  },
  {
   "cell_type": "code",
   "execution_count": 64,
   "id": "ea952473",
   "metadata": {
    "scrolled": true
   },
   "outputs": [
    {
     "name": "stdout",
     "output_type": "stream",
     "text": [
      "la lista ordenada y sin duplicados es es: [1, 3, 4, 5, 6, 7, 8, 34, 235]\n"
     ]
    }
   ],
   "source": [
    "## Resolución Ejercicio 3.9\n",
    "##TO DO\n",
    "lista=[1,4,3,5,5,6,7,8,34,235,6,7,6] #se ingresa lista\n",
    "\n",
    "def orden(lista):#definimos la funcion para ordenar la lista y quitar duplicados\n",
    "    listOrden= sorted(set(lista))#con esta linea de codigo no solo ordenamos de menor a mayor sino que quitamos duplicados\n",
    "    return listOrden\n",
    "print(f\"la lista ordenada y sin duplicados es es: {orden(lista)}\")"
   ]
  },
  {
   "cell_type": "markdown",
   "id": "91030ed9",
   "metadata": {},
   "source": [
    "##### Ejercicio 3.10\n",
    "\n",
    "Implemente una función que retorne un diccionario con los datos de un equipo médico. La función debe tener como parámetros fijos un nombre genérico del equipo y el área donde se encuentra, además de ser necesario, se le pasarán a la función una mayor cantidad de datos referentes al equipo. A modo de ejemplo el pasaje de argumentos puede ser,\n",
    "\n",
    "```Python\n",
    "equipo1 = datosEquipo(equipo = \"Respirador\", area = \"Neonatología\")\n",
    "\n",
    "equipo2 = datosEquipo(equipo = \"Respirador\", area = \"UCI\",\n",
    "                      coment = \"Alarma de presión de O2 no se apaga\",\n",
    "                      responsable = \"deja el equipo Mengano\")\n",
    "\n",
    "equipo3 = datosEquipo(equipo = \"Bomba infusión\", area = \"uti\",\n",
    "                      comentario = \"Necesitamos el equipo urgente\",\n",
    "                      falla = \"equipo no enciende o se apaga luego de algunas horas de uso\",\n",
    "                      personaResponsable = \"Dra. Sierra\",\n",
    "                      infoAdicional = \"No había nadie en biomédica\")\n",
    "```\n",
    "\n",
    "La implementación de la función debe contener anotaciones y documentación apropiada."
   ]
  },
  {
   "cell_type": "code",
   "execution_count": 10,
   "id": "09b8ae56",
   "metadata": {},
   "outputs": [],
   "source": [
    "## Resolución Ejercicio 3.10\n",
    "##TO DO"
   ]
  },
  {
   "cell_type": "markdown",
   "id": "36015ec2",
   "metadata": {},
   "source": [
    "##### Ejercicio 3.11\n",
    "\n",
    "Implemente una función que calcule la raíz cuadrada de un número entero utilizando el método de aproximaciones de Newton, el cual es,\n",
    "\n",
    "\\begin{equation*}\n",
    "\\sqrt a = \\frac{x + \\frac{a}{x}}{2}\n",
    "\\end{equation*}\n",
    "\n",
    "Donde, \n",
    "\n",
    "- *x* es una *estimación* o *aproximación* conocida de la raíz cuadrada. En general puede asumirse *x = 1* o *x = a*.\n",
    "\n",
    "La función a implementar debe recibir,\n",
    "\n",
    "- Un número entero *a* para estimar su raíz cuadrada.\n",
    "- Un número entero *n* que representa la cantidad de iteraciones a realizar para aproximar la raíz de *a*. Por defecto hacer n = 10.\n",
    "\n",
    "La función debe retornar\n",
    "\n",
    "- Una lista con cada uno de los cálculos realizados en cada iteración\n",
    "- El valor calculado de la última iteración.\n",
    "- El valor de la raiz cuadrada de *a* utilizando el método *sqrt* de la librería *math* (para comparación).\n",
    "\n",
    "La implementación de la función debe contener anotaciones y documentación apropiada."
   ]
  },
  {
   "cell_type": "code",
   "execution_count": 12,
   "id": "fc28012e",
   "metadata": {},
   "outputs": [
    {
     "name": "stdout",
     "output_type": "stream",
     "text": [
      "ingrese un numero para estimar su raiz cuadrada: 9\n",
      "su raiz cuadrada es: 5.0\n"
     ]
    }
   ],
   "source": [
    "## Resolución Ejercicio 3.11\n",
    "##TO DO\n",
    "numeroR= float(input(\"ingrese un numero para estimar su raiz cuadrada: \"))\n",
    "def raiz(numeroR):\n",
    "    n=0\n",
    "    i=0\n",
    "    while i<=10:\n",
    "        n= (numeroR+(numeroR/numeroR))/2\n",
    "        i+=1\n",
    "    return n\n",
    "print(f\"su raiz cuadrada es: {raiz(numeroR)}\")"
   ]
  },
  {
   "cell_type": "markdown",
   "id": "37d063be",
   "metadata": {},
   "source": [
    "##### Ejercicio 3.12\n",
    "\n",
    "Implemente una función que reciba como parámetros un número *n* de diccionarios. Asuma que los diccionarios pasados como parámetros poseen un *key* y elementos numéricos (enteros o flotantes).\n",
    "\n",
    "La función debe retornar un diccionario nuevo con la suma de los elementos correspondientes a los keys iguales.\n",
    "\n",
    "Por ejemplo,\n",
    "\n",
    "```Python\n",
    "dic1 = {'key1': 10, 'key2': 20, 'key3':30}\n",
    "dic2 = {'key1': 30, 'key3': 20, 'key4':40}\n",
    "\n",
    "dic3 = miFunc(d1,d2)\n",
    "print(dic3)\n",
    "# El dic3 debe ser de la forma {'key1': 40, 'key2': 20, 'key3': 50, 'key4': 40}\n",
    "```"
   ]
  },
  {
   "cell_type": "code",
   "execution_count": 12,
   "id": "267a611e",
   "metadata": {},
   "outputs": [],
   "source": [
    "## Resolución Ejercicio 3.12\n",
    "##TO DO"
   ]
  },
  {
   "cell_type": "markdown",
   "id": "c953298e",
   "metadata": {},
   "source": [
    "##### Ejercicio 3.13\n",
    "\n",
    "Implemente una función que reciba como parámetro el nombre de un archivo de texto *.txt* y retorne un diccionario en donde los *keys* estarán formados por cada palabra dentro del archivo y los *elementos* serán las veces que la palabra en cuestión se repite dentro del texto.\n",
    "\n",
    "Considere lo siguiente.\n",
    "\n",
    "- Descartar símbolos y caracteres. Asuma que el texto solo puede contener los siguientes caracteres y símbolos:\n",
    " - _ (guión bajo), - (guión medio).\n",
    " - , (coma) y . (punto).\n",
    " - ¿, ?, ¡, ! (signos de interrogación y exlamación).\n",
    "- Todas las palabras retornadas en el diccionario deben estar en minúsculas.\n",
    "\n",
    "Ejemplo\n",
    "\n",
    "```Python\n",
    "## supogamos que el archivo texto.txt contiene lo siguiente\n",
    "## \"Hola mundo. Hola mundo!!!\"\n",
    "\n",
    "diccionario = makeDict(\"texto.txt\")\n",
    "#El diccionario retornado debe ser similar a {\"hola\": 2, \"mundo\": 2}\n",
    "```\n",
    "\n",
    "NOTA: Utilice la función [*open()*](https://docs.python.org/3/library/functions.html#open) para cargar el archivo.\n",
    "\n",
    "La implementación de la función debe contener anotaciones y documentación apropiada."
   ]
  },
  {
   "cell_type": "code",
   "execution_count": 13,
   "id": "c87340e9",
   "metadata": {},
   "outputs": [],
   "source": [
    "## Resolución Ejercicio 3.13\n",
    "##TO DO"
   ]
  },
  {
   "cell_type": "markdown",
   "id": "c552bc2a",
   "metadata": {},
   "source": [
    "<hr style=\"border:1px solid gray\"> </hr>\n",
    "\n",
    "##  <span style='color:#3A40A2 '>FIN</span>"
   ]
  }
 ],
 "metadata": {
  "interpreter": {
   "hash": "341b29a86feb41683388a2350ede9b29bff08e5e019b1f08826cb582c6a8c162"
  },
  "kernelspec": {
   "display_name": "Python 3 (ipykernel)",
   "language": "python",
   "name": "python3"
  },
  "language_info": {
   "codemirror_mode": {
    "name": "ipython",
    "version": 3
   },
   "file_extension": ".py",
   "mimetype": "text/x-python",
   "name": "python",
   "nbconvert_exporter": "python",
   "pygments_lexer": "ipython3",
   "version": "3.9.7"
  }
 },
 "nbformat": 4,
 "nbformat_minor": 5
}
