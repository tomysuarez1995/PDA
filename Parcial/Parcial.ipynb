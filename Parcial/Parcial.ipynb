{
 "cells": [
  {
   "cell_type": "code",
   "execution_count": 6,
   "id": "720e3e6f",
   "metadata": {},
   "outputs": [
    {
     "name": "stdout",
     "output_type": "stream",
     "text": [
      "(['alberto', 'elTomy'], ['kristy'])\n"
     ]
    },
    {
     "data": {
      "text/plain": [
       "'no me da el tiempo de hacerlo sin zip, la idea era ver las ubicaciones de las edades en las lista edades y guardar las mismas \\nubicaciones de la lista nombre en una nueva lista y al final hacerla tupla, pero no me da el tiempo de resolverlo, no recuerdo'"
      ]
     },
     "execution_count": 6,
     "metadata": {},
     "output_type": "execute_result"
    }
   ],
   "source": [
    "##ejercicio 3 Practica\n",
    "nombres=[\"antonio\",\"jose\", \"alberto\", \"kristy\", \"elTomy\"]\n",
    "edades= [34, 45, 32, 87, 32]\n",
    "def may():\n",
    "    \"\"\"Esta funcion devuelve el numero mayor de una lista\"\"\"\n",
    "    numero1= 0 \n",
    "    for i in edades:\n",
    "        if i > numero1:\n",
    "            numero1 = i \n",
    "    return numero1\n",
    "def min():\n",
    "    \"\"\"esta funcion desvuelve el numero menor de una lista\"\"\"\n",
    "    numero2= 1000\n",
    "    for x in edades:\n",
    "        if x < numero2:\n",
    "            numero2 = x \n",
    "    return numero2\n",
    "def nosequeponeraca(**nolose):\n",
    "    \"\"\"Esta funcion se usara para que el usuario sepa cual es la persona mas joven de la lista 'nombres' y su edad, tambien la\n",
    "    la persona que tenga mayor edad y el nombre\"\"\"\n",
    "    listamayor=[]\n",
    "    listamenor=[]\n",
    "    tupla=[] \n",
    "    for i in range(len(edades)):\n",
    "        if min()== edades[i]:\n",
    "            listamenor.append(nombres[i])\n",
    "        elif may() == edades[i]:\n",
    "            listamayor.append(nombres[i])\n",
    "    tupla.append(listamenor)\n",
    "    tupla.append(listamayor)\n",
    "    return tupla     \n",
    "print(tuple(nosequeponeraca()))\n"
   ]
  },
  {
   "cell_type": "code",
   "execution_count": 2,
   "id": "0f3e29c0",
   "metadata": {},
   "outputs": [
    {
     "name": "stdout",
     "output_type": "stream",
     "text": [
      "34 26 20 20\n"
     ]
    }
   ],
   "source": [
    "#Ejercicio 4\n",
    "controlFile = open(\"datosReales.txt\", \"r\")\n",
    "testFile = open(\"resultadosTest.txt\", \"r\")\n",
    "control = [int(valor) for valor in controlFile.read().split()]\n",
    "test = [int(valor) for valor in testFile.read().split()]\n",
    "controlFile.close()\n",
    "testFile.close()\n",
    "## parte (b)\n",
    "def getMC(control, test):\n",
    " TP, FP, TN, FN = 0,0,0,0\n",
    " for t,c in zip(test, control):\n",
    "    if t == 1 and c == 1:\n",
    "        TP += 1\n",
    "    if t == 1 and c == 0:\n",
    "        FP += 1\n",
    "    if t == 0 and c == 0:\n",
    "     TN +=1\n",
    "    if t == 0 and c == 1:\n",
    "        FN += 1\n",
    "\n",
    " return [TP, FP, TN, FN]\n",
    "TP, FP, TN, FN = getMC(control, test)\n",
    "print(TP, FP, TN, FN)\n",
    "\n"
   ]
  },
  {
   "cell_type": "code",
   "execution_count": 3,
   "id": "5d22a2e9",
   "metadata": {},
   "outputs": [
    {
     "data": {
      "text/plain": [
       "(0.54, 0.57, 0.63, 0.33)"
      ]
     },
     "execution_count": 3,
     "metadata": {},
     "output_type": "execute_result"
    }
   ],
   "source": [
    "def getMetrics(valoresMC):\n",
    " TP = valoresMC[0]\n",
    " FP = valoresMC[1]\n",
    " TN = valoresMC[2]\n",
    " FN = valoresMC[3]\n",
    "\n",
    " accu = (TP+TN)/sum(valoresMC)\n",
    " pres = round(TP/(TP+FP),2)\n",
    " sens = round(TP/(TP+FN),2)\n",
    " espe = round(TN/(TP+FP),2)\n",
    "\n",
    " return accu, pres, sens, espe\n",
    "getMetrics([TP, FP, TN, FN])"
   ]
  }
 ],
 "metadata": {
  "interpreter": {
   "hash": "006f6d0a146a98ae4e484b7ab3e390336df27d1d007489d4cd24e5cef89f8849"
  },
  "kernelspec": {
   "display_name": "Python 3.9.7 ('base')",
   "language": "python",
   "name": "python3"
  },
  "language_info": {
   "codemirror_mode": {
    "name": "ipython",
    "version": 3
   },
   "file_extension": ".py",
   "mimetype": "text/x-python",
   "name": "python",
   "nbconvert_exporter": "python",
   "pygments_lexer": "ipython3",
   "version": "3.9.7"
  }
 },
 "nbformat": 4,
 "nbformat_minor": 5
}
