{
 "cells": [
  {
   "cell_type": "markdown",
   "id": "74150884",
   "metadata": {},
   "source": [
    "# <center> <span style='color:#3A40A2 '> Ejercitación módulo 4 - Primera parte </span></center> \n",
    "\n",
    "**Profesor Adjunto:** Mag. Bioing. Baldezzari Lucas\n",
    "\n",
    "<p style='text-align: left;'> V2022 </p>\n",
    "\n",
    "<hr style=\"border:1px solid gray\"> </hr>"
   ]
  },
  {
   "cell_type": "markdown",
   "id": "3f100fe1",
   "metadata": {},
   "source": [
    "##### Ejercicio 1\n",
    "\n",
    "Implemente una clase llamada *BasicStats()*. Esta clase deberá, a partir de una lista de números, calcular la media, la mediana, el desvío estándar, la varianza, los cuartiles $Q_1$, $Q_2$ y $Q_3$ y chequear la presencia de valores outliers, la clase debería también tener un método que permita quitar dichos valores.\n",
    "\n",
    "- Proponga un constructor, atributos y métodos que considere adecuados para llevar a cabo la tarea.\n",
    "- Genere una función main() para mostrar que su clase funciona.\n",
    "\n",
    "Nota: No utilice funciones built-in para el cálculo de los valores estadísticos. Se recomienda usar funciones que ya se hayan implementados en ejercicios anteriores."
   ]
  },
  {
   "cell_type": "code",
   "execution_count": 23,
   "id": "2e84b3c8",
   "metadata": {},
   "outputs": [
    {
     "name": "stdout",
     "output_type": "stream",
     "text": [
      "1503.38\n",
      "7791419.78\n",
      "2791.31\n",
      "el valor outliers es [7999, 4555, 6777]\n"
     ]
    }
   ],
   "source": [
    "#TO DO...\n",
    "listaNum=[2,4,5,6,2,24,234,5,7,878,24,3,1,7]\n",
    "class BasicStats():\n",
    "\n",
    "    def __init__(self,listaD):\n",
    "        \"\"\"constructor\"\"\"\n",
    "        self.liDVal= listaD\n",
    "    \n",
    "    \n",
    "    def media(self):\n",
    "        \"\"\"calcula la media\"\"\"\n",
    "        return round(sum(self.liDVal)/len(self.liDVal),2)\n",
    "\n",
    "    \n",
    "    def varia(self):\n",
    "        \"\"\"Calcula la varianza\"\"\"\n",
    "        media = self.media()\n",
    "        return round((sum([(i-media)**2 for i in self.liDVal])/len(self.liDVal)),2)\n",
    "\n",
    "    \n",
    "    def DevSt(self):\n",
    "        \"\"\"calcula la desviacion estandar\"\"\"\n",
    "        media = self.media()\n",
    "        return round(((sum([(i-media)**2 for i in self.liDVal])/len(self.liDVal))**(1/2)),2)\n",
    "\n",
    "    def outlie(self):\n",
    "        \"\"\"calcula los cuartiles y los outlie\"\"\"\n",
    "        sorted(self.liDVal)\n",
    "        med= self.media()\n",
    "        q11= (len(self.liDVal)+1)//4\n",
    "        q31= (3*(len(self.liDVal)+1))//4\n",
    "        q1= self.liDVal[q11]\n",
    "        q2= self.liDVal[q31]\n",
    "        RIC= q2-q1\n",
    "        out= []\n",
    "        for i in self.liDVal:\n",
    "            if i>(q1-1.5*RIC) or i<(q2+1.5*RIC):\n",
    "                out.append(i)\n",
    "        return f\"el valor outliers es {out}\"\n",
    "    \n",
    "listado = [2,4,5,46,7,76,52,4,7999,8,9,4555,6777]\n",
    "\n",
    "Grupo= BasicStats(listado)\n",
    "print(Grupo.media())\n",
    "print(Grupo.varia())\n",
    "print(Grupo.DevSt())\n",
    "print(Grupo.outlie())\n",
    "\n",
    "\n",
    "\n"
   ]
  },
  {
   "cell_type": "markdown",
   "id": "44d015f1",
   "metadata": {},
   "source": [
    "##### Ejercicio 2\n",
    "\n",
    "Responda qué espera ver y por qué, en cada uno de los puntos señalados con *#* en el código siguiente.\n",
    "\n",
    "```Python\n",
    "class miClase(object):\n",
    "\n",
    "    atributoDeClase = 'Atributo de Clase'\n",
    "\n",
    "    def __init__(self, val):\n",
    "        self.atributoInstancia = val\n",
    "\n",
    "\n",
    "a = miClase(1)\n",
    "b = miClase(2)\n",
    "\n",
    "print(a.atributoInstancia) #1\n",
    "print(b.atributoInstancia) #2\n",
    "\n",
    "print(a.atributoDeClase == b.atributoDeClase) #3\n",
    "print(a.atributoDeClase is b.atributoDeClase) #4\n",
    "\n",
    "b.atributoDeClase = 4\n",
    "print(a.atributoDeClase) #5\n",
    "\n",
    "del a.atributoDeClase\n",
    "MyClass.atributoDeClase = 4 #6\n",
    "```\n",
    "\n",
    "**Su respuesta acá**\n",
    "#1. Mostrara 1\n",
    "#2. Mostrara 2\n",
    "#3. Mostrara True\n",
    "#4. Mostrara True\n",
    "#5. Mostrara \"atributo de clase\"\n",
    "*TODO*"
   ]
  },
  {
   "cell_type": "markdown",
   "id": "52d1168e",
   "metadata": {},
   "source": [
    "##### Ejercicio 3\n",
    "\n",
    "A partir del código debajo, y aplicando ingeniería inversa, cree la clase PremioNobel().\n",
    "\n",
    "```Python\n",
    "premio2010 = PremioNobel(\"Paz\", 2010, \"Liu Xiaobo\")\n",
    "print(premio2010.category, premio2010.year, premio2010.winner)\n",
    "```"
   ]
  },
  {
   "cell_type": "code",
   "execution_count": 26,
   "id": "773b21c2",
   "metadata": {},
   "outputs": [
    {
     "name": "stdout",
     "output_type": "stream",
     "text": [
      "Paz 2010 Liu Xiaobo\n"
     ]
    }
   ],
   "source": [
    "## TO DO...\n",
    "class PremioNobel():\n",
    "\n",
    "    def __init__(self, categoria, año, ganador):\n",
    "        self.category= categoria\n",
    "        self.year= año\n",
    "        self.winner = ganador\n",
    "\n",
    "        return \n",
    "    def category(self):\n",
    "        return self.category\n",
    "    \n",
    "    def year(self):\n",
    "        return self.year\n",
    "\n",
    "    def winner(self):\n",
    "        return self.winner\n",
    "\n",
    "premio2010 = PremioNobel(\"Paz\", 2010, \"Liu Xiaobo\")\n",
    "print(premio2010.category, premio2010.year, premio2010.winner)"
   ]
  },
  {
   "cell_type": "markdown",
   "id": "53002827",
   "metadata": {},
   "source": [
    "##### Ejercicio 4\n",
    "\n",
    "A partir de la clase PremioNobel() sobreescriba el método *\\_\\_str()\\_\\_* para utilizar *print()* e imprimir información del objeto.\n",
    "\n",
    "```Python\n",
    "premio2010 = PremioNobel(\"Paz\", 2010, \"Liu Xiaobo\")\n",
    "print(premio2010)\n",
    "```"
   ]
  },
  {
   "cell_type": "code",
   "execution_count": 3,
   "id": "09d99a5c",
   "metadata": {},
   "outputs": [],
   "source": [
    "## TODO\n"
   ]
  },
  {
   "cell_type": "markdown",
   "id": "cc3f91bf",
   "metadata": {},
   "source": [
    "##### Ejercicio 5\n",
    "\n",
    "Escriba una clase en Python para encontrar el índice de un par de elementos de una lista de números enteros que sumen un número determinado.\n",
    "\n",
    "La clase debería ser capaz de recibir una lista de enteros y debería tener un método que reciba un valor *blanco* o *target* y devuelva cuales ítems de aquellos elementos que al sumarse, dan como resultado el valor *target* pasado como argumento.\n",
    "\n",
    "Por ejemplo, si la lista fuera [10,20,10,30,40,50,60,70,90] y el *target* fuera 50, el método debería devolver (3,5).\n",
    "\n",
    "Nota: No usar el mismo elemento de la lista de enteros dos veces."
   ]
  },
  {
   "cell_type": "code",
   "execution_count": 27,
   "id": "6705261c",
   "metadata": {},
   "outputs": [
    {
     "name": "stdout",
     "output_type": "stream",
     "text": [
      "Jose,Rodriguez-Ana,Martinez\n"
     ]
    }
   ],
   "source": [
    "## TODO\n"
   ]
  },
  {
   "cell_type": "markdown",
   "id": "5ed20bb4",
   "metadata": {},
   "source": [
    "##### Ejercicio 6\n",
    "\n",
    "Tome la clase Punto() vista en clase de teoría y sobreescriba los métodos *\\_\\_add\\_\\_* y *\\_\\_sub\\_\\_* para sumar y restar las coordenadas de dos puntos.\n",
    "\n",
    "Ejemplo:\n",
    "\n",
    "\n",
    "```Python\n",
    "p1 = Punto(1,2)\n",
    "p2 = Punto(3,4)\n",
    "\n",
    "p3 = p1+p2\n",
    "p4 = p2-p1\n",
    "print(p3)\n",
    "## Debería imprimir P(4,6)\n",
    "print(p4)\n",
    "## Debería imprimir P(2,2)\n",
    "```\n",
    "\n",
    "*Hint*: Sería bueno que los métodos retornen una nueva instancia de la clase Punto() con el resultado de la suma o resta."
   ]
  },
  {
   "cell_type": "code",
   "execution_count": 1,
   "id": "ac24385f",
   "metadata": {},
   "outputs": [],
   "source": [
    "## TODO"
   ]
  }
 ],
 "metadata": {
  "interpreter": {
   "hash": "006f6d0a146a98ae4e484b7ab3e390336df27d1d007489d4cd24e5cef89f8849"
  },
  "kernelspec": {
   "display_name": "Python 3.9.7 ('base')",
   "language": "python",
   "name": "python3"
  },
  "language_info": {
   "codemirror_mode": {
    "name": "ipython",
    "version": 3
   },
   "file_extension": ".py",
   "mimetype": "text/x-python",
   "name": "python",
   "nbconvert_exporter": "python",
   "pygments_lexer": "ipython3",
   "version": "3.9.7"
  }
 },
 "nbformat": 4,
 "nbformat_minor": 5
}
